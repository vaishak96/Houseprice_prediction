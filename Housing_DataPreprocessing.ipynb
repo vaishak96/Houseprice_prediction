{
  "cells": [
    {
      "cell_type": "code",
      "source": [
        "!pip3 install category_encoders"
      ],
      "metadata": {
        "id": "XYY_G5ooBWdI",
        "outputId": "639759e5-1240-43e6-a04b-0eafb9a40695",
        "colab": {
          "base_uri": "https://localhost:8080/"
        }
      },
      "id": "XYY_G5ooBWdI",
      "execution_count": null,
      "outputs": [
        {
          "output_type": "stream",
          "name": "stdout",
          "text": [
            "Requirement already satisfied: category_encoders in /usr/local/lib/python3.7/dist-packages (2.4.0)\n",
            "Requirement already satisfied: patsy>=0.5.1 in /usr/local/lib/python3.7/dist-packages (from category_encoders) (0.5.2)\n",
            "Requirement already satisfied: scipy>=1.0.0 in /usr/local/lib/python3.7/dist-packages (from category_encoders) (1.4.1)\n",
            "Requirement already satisfied: numpy>=1.14.0 in /usr/local/lib/python3.7/dist-packages (from category_encoders) (1.21.5)\n",
            "Requirement already satisfied: scikit-learn>=0.20.0 in /usr/local/lib/python3.7/dist-packages (from category_encoders) (1.0.2)\n",
            "Requirement already satisfied: pandas>=0.21.1 in /usr/local/lib/python3.7/dist-packages (from category_encoders) (1.3.5)\n",
            "Requirement already satisfied: statsmodels>=0.9.0 in /usr/local/lib/python3.7/dist-packages (from category_encoders) (0.10.2)\n",
            "Requirement already satisfied: python-dateutil>=2.7.3 in /usr/local/lib/python3.7/dist-packages (from pandas>=0.21.1->category_encoders) (2.8.2)\n",
            "Requirement already satisfied: pytz>=2017.3 in /usr/local/lib/python3.7/dist-packages (from pandas>=0.21.1->category_encoders) (2018.9)\n",
            "Requirement already satisfied: six in /usr/local/lib/python3.7/dist-packages (from patsy>=0.5.1->category_encoders) (1.15.0)\n",
            "Requirement already satisfied: joblib>=0.11 in /usr/local/lib/python3.7/dist-packages (from scikit-learn>=0.20.0->category_encoders) (1.1.0)\n",
            "Requirement already satisfied: threadpoolctl>=2.0.0 in /usr/local/lib/python3.7/dist-packages (from scikit-learn>=0.20.0->category_encoders) (3.1.0)\n"
          ]
        }
      ]
    },
    {
      "cell_type": "code",
      "execution_count": null,
      "id": "44eb0367-8017-4c30-b049-86032f9df2a9",
      "metadata": {
        "id": "44eb0367-8017-4c30-b049-86032f9df2a9"
      },
      "outputs": [],
      "source": [
        "import sys\n",
        "import os\n",
        "import category_encoders as ce\n",
        "import numpy as np\n",
        "import pandas as pd\n",
        "import sklearn as skl\n",
        "import sklearn.model_selection\n",
        "import sklearn.metrics\n",
        "from sklearn.impute import SimpleImputer\n",
        "\n",
        "\n",
        "import matplotlib.pyplot as plt\n",
        "params = {\"ytick.color\" : \"w\",\n",
        "          \"xtick.color\" : \"w\",\n",
        "          \"axes.labelcolor\" : \"w\",\n",
        "          \"axes.edgecolor\" : \"w\"}\n",
        "plt.rcParams.update(params)\n",
        "\n",
        "import re"
      ]
    },
    {
      "cell_type": "markdown",
      "id": "b9e0881c-5ffb-4f72-9930-982cd17fffe6",
      "metadata": {
        "id": "b9e0881c-5ffb-4f72-9930-982cd17fffe6"
      },
      "source": [
        "## Prep"
      ]
    },
    {
      "cell_type": "code",
      "execution_count": null,
      "id": "5418029b-df17-4839-971d-32822b938a44",
      "metadata": {
        "id": "5418029b-df17-4839-971d-32822b938a44"
      },
      "outputs": [],
      "source": [
        "train_csv = '/content/train.csv'\n",
        "test_csv = '/content/test.csv'\n",
        "\n",
        "# new_test = 'data/test_modified_8.csv'\n",
        "#aux_data = []\n",
        "#aux_dir = '/content/sample_data/auxiliary_data'\n",
        "#aux_csv = [f for f in os.listdir(aux_dir) if os.path.isfile(os.path.join(aux_dir,f))]"
      ]
    },
    {
      "cell_type": "code",
      "execution_count": null,
      "id": "2d7754da-9dfe-49e6-97af-37c18c95a1ae",
      "metadata": {
        "id": "2d7754da-9dfe-49e6-97af-37c18c95a1ae"
      },
      "outputs": [],
      "source": [
        "df = pd.read_csv(train_csv)\n",
        "df1 = pd.read_csv(test_csv)\n"
      ]
    },
    {
      "cell_type": "code",
      "source": [
        "df.head(5)"
      ],
      "metadata": {
        "id": "id8RAM_heQOs",
        "outputId": "7e3c2109-cf5d-461a-ceef-5cd035432e48",
        "colab": {
          "base_uri": "https://localhost:8080/",
          "height": 421
        }
      },
      "id": "id8RAM_heQOs",
      "execution_count": null,
      "outputs": [
        {
          "output_type": "execute_result",
          "data": {
            "text/plain": [
              "   listing_id                  name             street         type  \\\n",
              "0     6998418              seascape       57 cove way   condominium   \n",
              "1     2046604             la maison  10 moulmein rise     apartment   \n",
              "2     7563513                  viva    2 suffolk walk   condominium   \n",
              "3     3071445       urban treasures   205 jalan eunos   condominium   \n",
              "4     9667539  infini at east coast    east coast road    apartment   \n",
              "\n",
              "         model market_segment type_of_area bedrooms  bathrooms  district  ...  \\\n",
              "0  condominium            ocr       strata        3        4.0         4  ...   \n",
              "1    apartment            ocr       strata        3        3.0        11  ...   \n",
              "2  condominium            ocr       strata        4        3.0        11  ...   \n",
              "3  condominium            ocr       strata        3        2.0        14  ...   \n",
              "4    apartment            ocr       strata        3        3.0        15  ...   \n",
              "\n",
              "        lat         lng              tenure  built_year  no_of_units  \\\n",
              "0  1.239337  103.837487  leasehold/99 years      2011.0        151.0   \n",
              "1  1.319533  103.847030            freehold      1999.0         24.0   \n",
              "2  1.315656  103.844445            freehold      2012.0        235.0   \n",
              "3  1.329367  103.905791            freehold         NaN        237.0   \n",
              "4  1.309176  103.911352            freehold         NaN         36.0   \n",
              "\n",
              "  area_size   eco_category  accessibility  date_listed      price  \n",
              "0    2336.0  uncategorized        guarded   2021-05-04  5390000.0  \n",
              "1    1259.0  uncategorized        guarded   2021-05-07  2310000.0  \n",
              "2    1959.0  uncategorized        guarded   2021-06-30  5279500.0  \n",
              "3     883.0  uncategorized        guarded   2022-01-02  1843600.0  \n",
              "4    1066.0  uncategorized        guarded   2021-12-24  2262700.0  \n",
              "\n",
              "[5 rows x 23 columns]"
            ],
            "text/html": [
              "\n",
              "  <div id=\"df-66b4f2b7-ab7b-4831-a0bd-f7c809ba4756\">\n",
              "    <div class=\"colab-df-container\">\n",
              "      <div>\n",
              "<style scoped>\n",
              "    .dataframe tbody tr th:only-of-type {\n",
              "        vertical-align: middle;\n",
              "    }\n",
              "\n",
              "    .dataframe tbody tr th {\n",
              "        vertical-align: top;\n",
              "    }\n",
              "\n",
              "    .dataframe thead th {\n",
              "        text-align: right;\n",
              "    }\n",
              "</style>\n",
              "<table border=\"1\" class=\"dataframe\">\n",
              "  <thead>\n",
              "    <tr style=\"text-align: right;\">\n",
              "      <th></th>\n",
              "      <th>listing_id</th>\n",
              "      <th>name</th>\n",
              "      <th>street</th>\n",
              "      <th>type</th>\n",
              "      <th>model</th>\n",
              "      <th>market_segment</th>\n",
              "      <th>type_of_area</th>\n",
              "      <th>bedrooms</th>\n",
              "      <th>bathrooms</th>\n",
              "      <th>district</th>\n",
              "      <th>...</th>\n",
              "      <th>lat</th>\n",
              "      <th>lng</th>\n",
              "      <th>tenure</th>\n",
              "      <th>built_year</th>\n",
              "      <th>no_of_units</th>\n",
              "      <th>area_size</th>\n",
              "      <th>eco_category</th>\n",
              "      <th>accessibility</th>\n",
              "      <th>date_listed</th>\n",
              "      <th>price</th>\n",
              "    </tr>\n",
              "  </thead>\n",
              "  <tbody>\n",
              "    <tr>\n",
              "      <th>0</th>\n",
              "      <td>6998418</td>\n",
              "      <td>seascape</td>\n",
              "      <td>57 cove way</td>\n",
              "      <td>condominium</td>\n",
              "      <td>condominium</td>\n",
              "      <td>ocr</td>\n",
              "      <td>strata</td>\n",
              "      <td>3</td>\n",
              "      <td>4.0</td>\n",
              "      <td>4</td>\n",
              "      <td>...</td>\n",
              "      <td>1.239337</td>\n",
              "      <td>103.837487</td>\n",
              "      <td>leasehold/99 years</td>\n",
              "      <td>2011.0</td>\n",
              "      <td>151.0</td>\n",
              "      <td>2336.0</td>\n",
              "      <td>uncategorized</td>\n",
              "      <td>guarded</td>\n",
              "      <td>2021-05-04</td>\n",
              "      <td>5390000.0</td>\n",
              "    </tr>\n",
              "    <tr>\n",
              "      <th>1</th>\n",
              "      <td>2046604</td>\n",
              "      <td>la maison</td>\n",
              "      <td>10 moulmein rise</td>\n",
              "      <td>apartment</td>\n",
              "      <td>apartment</td>\n",
              "      <td>ocr</td>\n",
              "      <td>strata</td>\n",
              "      <td>3</td>\n",
              "      <td>3.0</td>\n",
              "      <td>11</td>\n",
              "      <td>...</td>\n",
              "      <td>1.319533</td>\n",
              "      <td>103.847030</td>\n",
              "      <td>freehold</td>\n",
              "      <td>1999.0</td>\n",
              "      <td>24.0</td>\n",
              "      <td>1259.0</td>\n",
              "      <td>uncategorized</td>\n",
              "      <td>guarded</td>\n",
              "      <td>2021-05-07</td>\n",
              "      <td>2310000.0</td>\n",
              "    </tr>\n",
              "    <tr>\n",
              "      <th>2</th>\n",
              "      <td>7563513</td>\n",
              "      <td>viva</td>\n",
              "      <td>2 suffolk walk</td>\n",
              "      <td>condominium</td>\n",
              "      <td>condominium</td>\n",
              "      <td>ocr</td>\n",
              "      <td>strata</td>\n",
              "      <td>4</td>\n",
              "      <td>3.0</td>\n",
              "      <td>11</td>\n",
              "      <td>...</td>\n",
              "      <td>1.315656</td>\n",
              "      <td>103.844445</td>\n",
              "      <td>freehold</td>\n",
              "      <td>2012.0</td>\n",
              "      <td>235.0</td>\n",
              "      <td>1959.0</td>\n",
              "      <td>uncategorized</td>\n",
              "      <td>guarded</td>\n",
              "      <td>2021-06-30</td>\n",
              "      <td>5279500.0</td>\n",
              "    </tr>\n",
              "    <tr>\n",
              "      <th>3</th>\n",
              "      <td>3071445</td>\n",
              "      <td>urban treasures</td>\n",
              "      <td>205 jalan eunos</td>\n",
              "      <td>condominium</td>\n",
              "      <td>condominium</td>\n",
              "      <td>ocr</td>\n",
              "      <td>strata</td>\n",
              "      <td>3</td>\n",
              "      <td>2.0</td>\n",
              "      <td>14</td>\n",
              "      <td>...</td>\n",
              "      <td>1.329367</td>\n",
              "      <td>103.905791</td>\n",
              "      <td>freehold</td>\n",
              "      <td>NaN</td>\n",
              "      <td>237.0</td>\n",
              "      <td>883.0</td>\n",
              "      <td>uncategorized</td>\n",
              "      <td>guarded</td>\n",
              "      <td>2022-01-02</td>\n",
              "      <td>1843600.0</td>\n",
              "    </tr>\n",
              "    <tr>\n",
              "      <th>4</th>\n",
              "      <td>9667539</td>\n",
              "      <td>infini at east coast</td>\n",
              "      <td>east coast road</td>\n",
              "      <td>apartment</td>\n",
              "      <td>apartment</td>\n",
              "      <td>ocr</td>\n",
              "      <td>strata</td>\n",
              "      <td>3</td>\n",
              "      <td>3.0</td>\n",
              "      <td>15</td>\n",
              "      <td>...</td>\n",
              "      <td>1.309176</td>\n",
              "      <td>103.911352</td>\n",
              "      <td>freehold</td>\n",
              "      <td>NaN</td>\n",
              "      <td>36.0</td>\n",
              "      <td>1066.0</td>\n",
              "      <td>uncategorized</td>\n",
              "      <td>guarded</td>\n",
              "      <td>2021-12-24</td>\n",
              "      <td>2262700.0</td>\n",
              "    </tr>\n",
              "  </tbody>\n",
              "</table>\n",
              "<p>5 rows × 23 columns</p>\n",
              "</div>\n",
              "      <button class=\"colab-df-convert\" onclick=\"convertToInteractive('df-66b4f2b7-ab7b-4831-a0bd-f7c809ba4756')\"\n",
              "              title=\"Convert this dataframe to an interactive table.\"\n",
              "              style=\"display:none;\">\n",
              "        \n",
              "  <svg xmlns=\"http://www.w3.org/2000/svg\" height=\"24px\"viewBox=\"0 0 24 24\"\n",
              "       width=\"24px\">\n",
              "    <path d=\"M0 0h24v24H0V0z\" fill=\"none\"/>\n",
              "    <path d=\"M18.56 5.44l.94 2.06.94-2.06 2.06-.94-2.06-.94-.94-2.06-.94 2.06-2.06.94zm-11 1L8.5 8.5l.94-2.06 2.06-.94-2.06-.94L8.5 2.5l-.94 2.06-2.06.94zm10 10l.94 2.06.94-2.06 2.06-.94-2.06-.94-.94-2.06-.94 2.06-2.06.94z\"/><path d=\"M17.41 7.96l-1.37-1.37c-.4-.4-.92-.59-1.43-.59-.52 0-1.04.2-1.43.59L10.3 9.45l-7.72 7.72c-.78.78-.78 2.05 0 2.83L4 21.41c.39.39.9.59 1.41.59.51 0 1.02-.2 1.41-.59l7.78-7.78 2.81-2.81c.8-.78.8-2.07 0-2.86zM5.41 20L4 18.59l7.72-7.72 1.47 1.35L5.41 20z\"/>\n",
              "  </svg>\n",
              "      </button>\n",
              "      \n",
              "  <style>\n",
              "    .colab-df-container {\n",
              "      display:flex;\n",
              "      flex-wrap:wrap;\n",
              "      gap: 12px;\n",
              "    }\n",
              "\n",
              "    .colab-df-convert {\n",
              "      background-color: #E8F0FE;\n",
              "      border: none;\n",
              "      border-radius: 50%;\n",
              "      cursor: pointer;\n",
              "      display: none;\n",
              "      fill: #1967D2;\n",
              "      height: 32px;\n",
              "      padding: 0 0 0 0;\n",
              "      width: 32px;\n",
              "    }\n",
              "\n",
              "    .colab-df-convert:hover {\n",
              "      background-color: #E2EBFA;\n",
              "      box-shadow: 0px 1px 2px rgba(60, 64, 67, 0.3), 0px 1px 3px 1px rgba(60, 64, 67, 0.15);\n",
              "      fill: #174EA6;\n",
              "    }\n",
              "\n",
              "    [theme=dark] .colab-df-convert {\n",
              "      background-color: #3B4455;\n",
              "      fill: #D2E3FC;\n",
              "    }\n",
              "\n",
              "    [theme=dark] .colab-df-convert:hover {\n",
              "      background-color: #434B5C;\n",
              "      box-shadow: 0px 1px 3px 1px rgba(0, 0, 0, 0.15);\n",
              "      filter: drop-shadow(0px 1px 2px rgba(0, 0, 0, 0.3));\n",
              "      fill: #FFFFFF;\n",
              "    }\n",
              "  </style>\n",
              "\n",
              "      <script>\n",
              "        const buttonEl =\n",
              "          document.querySelector('#df-66b4f2b7-ab7b-4831-a0bd-f7c809ba4756 button.colab-df-convert');\n",
              "        buttonEl.style.display =\n",
              "          google.colab.kernel.accessAllowed ? 'block' : 'none';\n",
              "\n",
              "        async function convertToInteractive(key) {\n",
              "          const element = document.querySelector('#df-66b4f2b7-ab7b-4831-a0bd-f7c809ba4756');\n",
              "          const dataTable =\n",
              "            await google.colab.kernel.invokeFunction('convertToInteractive',\n",
              "                                                     [key], {});\n",
              "          if (!dataTable) return;\n",
              "\n",
              "          const docLinkHtml = 'Like what you see? Visit the ' +\n",
              "            '<a target=\"_blank\" href=https://colab.research.google.com/notebooks/data_table.ipynb>data table notebook</a>'\n",
              "            + ' to learn more about interactive tables.';\n",
              "          element.innerHTML = '';\n",
              "          dataTable['output_type'] = 'display_data';\n",
              "          await google.colab.output.renderOutput(dataTable, element);\n",
              "          const docLink = document.createElement('div');\n",
              "          docLink.innerHTML = docLinkHtml;\n",
              "          element.appendChild(docLink);\n",
              "        }\n",
              "      </script>\n",
              "    </div>\n",
              "  </div>\n",
              "  "
            ]
          },
          "metadata": {},
          "execution_count": 54
        }
      ]
    },
    {
      "cell_type": "markdown",
      "source": [
        "Visulization and drawing insights to the dataset"
      ],
      "metadata": {
        "id": "WoxYMyA6zLrA"
      },
      "id": "WoxYMyA6zLrA"
    },
    {
      "cell_type": "code",
      "source": [
        "df.info()"
      ],
      "metadata": {
        "id": "f8qDGiDy9vPm",
        "outputId": "a035da78-3e67-423b-e164-611736f386f4",
        "colab": {
          "base_uri": "https://localhost:8080/"
        }
      },
      "id": "f8qDGiDy9vPm",
      "execution_count": null,
      "outputs": [
        {
          "output_type": "stream",
          "name": "stdout",
          "text": [
            "<class 'pandas.core.frame.DataFrame'>\n",
            "RangeIndex: 26048 entries, 0 to 26047\n",
            "Data columns (total 23 columns):\n",
            " #   Column          Non-Null Count  Dtype  \n",
            "---  ------          --------------  -----  \n",
            " 0   listing_id      26048 non-null  int64  \n",
            " 1   name            26048 non-null  object \n",
            " 2   street          26048 non-null  object \n",
            " 3   type            26048 non-null  object \n",
            " 4   model           24768 non-null  object \n",
            " 5   market_segment  26048 non-null  object \n",
            " 6   type_of_area    26048 non-null  object \n",
            " 7   bedrooms        25644 non-null  object \n",
            " 8   bathrooms       24812 non-null  float64\n",
            " 9   district        26048 non-null  int64  \n",
            " 10  region          26048 non-null  object \n",
            " 11  planning_area   26048 non-null  object \n",
            " 12  subszone        26048 non-null  object \n",
            " 13  lat             26048 non-null  float64\n",
            " 14  lng             26048 non-null  float64\n",
            " 15  tenure          25761 non-null  object \n",
            " 16  built_year      16005 non-null  float64\n",
            " 17  no_of_units     25006 non-null  float64\n",
            " 18  area_size       26046 non-null  float64\n",
            " 19  eco_category    26048 non-null  object \n",
            " 20  accessibility   26048 non-null  object \n",
            " 21  date_listed     26048 non-null  object \n",
            " 22  price           26048 non-null  float64\n",
            "dtypes: float64(7), int64(2), object(14)\n",
            "memory usage: 4.6+ MB\n"
          ]
        }
      ]
    },
    {
      "cell_type": "code",
      "source": [
        "import seaborn as sns\n",
        "latlongprice = df.groupby(['lat', 'lng'])['price'].mean().reset_index()\n",
        "sns.set(rc={'figure.figsize':(20,10)})\n",
        "plt.scatter(latlongprice['lat'], latlongprice['lng'], c=latlongprice['price'])\n",
        "plt.colorbar()\n",
        "plt.show()\n",
        "       "
      ],
      "metadata": {
        "colab": {
          "base_uri": "https://localhost:8080/",
          "height": 605
        },
        "id": "xDojnwelR2ZU",
        "outputId": "4644bfa7-21ee-4308-8999-380aa3e66877"
      },
      "id": "xDojnwelR2ZU",
      "execution_count": null,
      "outputs": [
        {
          "output_type": "display_data",
          "data": {
            "text/plain": [
              "<Figure size 1440x720 with 2 Axes>"
            ],
            "image/png": "[encoded data removed]"
          },
          "metadata": {}
        }
      ]
    },
    {
      "cell_type": "code",
      "source": [
        "#Grouping the dataset with respect to region,model  with respect to price\n",
        "dataframe_region = df.groupby('region').price.agg(['max', 'min', 'count', 'median', 'mean'])\n",
        "dataframe_model = df.groupby('model').price.agg(['max', 'min', 'count', 'median', 'mean'])\n"
      ],
      "metadata": {
        "id": "oe93wkyZtbVr"
      },
      "id": "oe93wkyZtbVr",
      "execution_count": null,
      "outputs": []
    },
    {
      "cell_type": "code",
      "source": [
        "dataframe_region"
      ],
      "metadata": {
        "colab": {
          "base_uri": "https://localhost:8080/",
          "height": 238
        },
        "id": "TjgtKbEXJYPa",
        "outputId": "357c877c-9b60-42a9-f11b-871dfc0ff4af"
      },
      "id": "TjgtKbEXJYPa",
      "execution_count": null,
      "outputs": [
        {
          "output_type": "execute_result",
          "data": {
            "text/plain": [
              "                          max       min  count     median          mean\n",
              "region                                                                 \n",
              "central region     74800000.0  591800.0  17669  2288000.0  3.678558e+06\n",
              "east region        19800000.0  613800.0   2558  1361800.0  1.508838e+06\n",
              "north region        3649800.0  577500.0    855  1265000.0  1.371665e+06\n",
              "north-east region   5280000.0  556600.0   2793  1419000.0  1.559955e+06\n",
              "west region         8580000.0  605000.0   2173  1430000.0  1.665606e+06"
            ],
            "text/html": [
              "\n",
              "  <div id=\"df-2c93020d-3781-4b21-9c04-e9721e0be32c\">\n",
              "    <div class=\"colab-df-container\">\n",
              "      <div>\n",
              "<style scoped>\n",
              "    .dataframe tbody tr th:only-of-type {\n",
              "        vertical-align: middle;\n",
              "    }\n",
              "\n",
              "    .dataframe tbody tr th {\n",
              "        vertical-align: top;\n",
              "    }\n",
              "\n",
              "    .dataframe thead th {\n",
              "        text-align: right;\n",
              "    }\n",
              "</style>\n",
              "<table border=\"1\" class=\"dataframe\">\n",
              "  <thead>\n",
              "    <tr style=\"text-align: right;\">\n",
              "      <th></th>\n",
              "      <th>max</th>\n",
              "      <th>min</th>\n",
              "      <th>count</th>\n",
              "      <th>median</th>\n",
              "      <th>mean</th>\n",
              "    </tr>\n",
              "    <tr>\n",
              "      <th>region</th>\n",
              "      <th></th>\n",
              "      <th></th>\n",
              "      <th></th>\n",
              "      <th></th>\n",
              "      <th></th>\n",
              "    </tr>\n",
              "  </thead>\n",
              "  <tbody>\n",
              "    <tr>\n",
              "      <th>central region</th>\n",
              "      <td>74800000.0</td>\n",
              "      <td>591800.0</td>\n",
              "      <td>17669</td>\n",
              "      <td>2288000.0</td>\n",
              "      <td>3.678558e+06</td>\n",
              "    </tr>\n",
              "    <tr>\n",
              "      <th>east region</th>\n",
              "      <td>19800000.0</td>\n",
              "      <td>613800.0</td>\n",
              "      <td>2558</td>\n",
              "      <td>1361800.0</td>\n",
              "      <td>1.508838e+06</td>\n",
              "    </tr>\n",
              "    <tr>\n",
              "      <th>north region</th>\n",
              "      <td>3649800.0</td>\n",
              "      <td>577500.0</td>\n",
              "      <td>855</td>\n",
              "      <td>1265000.0</td>\n",
              "      <td>1.371665e+06</td>\n",
              "    </tr>\n",
              "    <tr>\n",
              "      <th>north-east region</th>\n",
              "      <td>5280000.0</td>\n",
              "      <td>556600.0</td>\n",
              "      <td>2793</td>\n",
              "      <td>1419000.0</td>\n",
              "      <td>1.559955e+06</td>\n",
              "    </tr>\n",
              "    <tr>\n",
              "      <th>west region</th>\n",
              "      <td>8580000.0</td>\n",
              "      <td>605000.0</td>\n",
              "      <td>2173</td>\n",
              "      <td>1430000.0</td>\n",
              "      <td>1.665606e+06</td>\n",
              "    </tr>\n",
              "  </tbody>\n",
              "</table>\n",
              "</div>\n",
              "      <button class=\"colab-df-convert\" onclick=\"convertToInteractive('df-2c93020d-3781-4b21-9c04-e9721e0be32c')\"\n",
              "              title=\"Convert this dataframe to an interactive table.\"\n",
              "              style=\"display:none;\">\n",
              "        \n",
              "  <svg xmlns=\"http://www.w3.org/2000/svg\" height=\"24px\"viewBox=\"0 0 24 24\"\n",
              "       width=\"24px\">\n",
              "    <path d=\"M0 0h24v24H0V0z\" fill=\"none\"/>\n",
              "    <path d=\"M18.56 5.44l.94 2.06.94-2.06 2.06-.94-2.06-.94-.94-2.06-.94 2.06-2.06.94zm-11 1L8.5 8.5l.94-2.06 2.06-.94-2.06-.94L8.5 2.5l-.94 2.06-2.06.94zm10 10l.94 2.06.94-2.06 2.06-.94-2.06-.94-.94-2.06-.94 2.06-2.06.94z\"/><path d=\"M17.41 7.96l-1.37-1.37c-.4-.4-.92-.59-1.43-.59-.52 0-1.04.2-1.43.59L10.3 9.45l-7.72 7.72c-.78.78-.78 2.05 0 2.83L4 21.41c.39.39.9.59 1.41.59.51 0 1.02-.2 1.41-.59l7.78-7.78 2.81-2.81c.8-.78.8-2.07 0-2.86zM5.41 20L4 18.59l7.72-7.72 1.47 1.35L5.41 20z\"/>\n",
              "  </svg>\n",
              "      </button>\n",
              "      \n",
              "  <style>\n",
              "    .colab-df-container {\n",
              "      display:flex;\n",
              "      flex-wrap:wrap;\n",
              "      gap: 12px;\n",
              "    }\n",
              "\n",
              "    .colab-df-convert {\n",
              "      background-color: #E8F0FE;\n",
              "      border: none;\n",
              "      border-radius: 50%;\n",
              "      cursor: pointer;\n",
              "      display: none;\n",
              "      fill: #1967D2;\n",
              "      height: 32px;\n",
              "      padding: 0 0 0 0;\n",
              "      width: 32px;\n",
              "    }\n",
              "\n",
              "    .colab-df-convert:hover {\n",
              "      background-color: #E2EBFA;\n",
              "      box-shadow: 0px 1px 2px rgba(60, 64, 67, 0.3), 0px 1px 3px 1px rgba(60, 64, 67, 0.15);\n",
              "      fill: #174EA6;\n",
              "    }\n",
              "\n",
              "    [theme=dark] .colab-df-convert {\n",
              "      background-color: #3B4455;\n",
              "      fill: #D2E3FC;\n",
              "    }\n",
              "\n",
              "    [theme=dark] .colab-df-convert:hover {\n",
              "      background-color: #434B5C;\n",
              "      box-shadow: 0px 1px 3px 1px rgba(0, 0, 0, 0.15);\n",
              "      filter: drop-shadow(0px 1px 2px rgba(0, 0, 0, 0.3));\n",
              "      fill: #FFFFFF;\n",
              "    }\n",
              "  </style>\n",
              "\n",
              "      <script>\n",
              "        const buttonEl =\n",
              "          document.querySelector('#df-2c93020d-3781-4b21-9c04-e9721e0be32c button.colab-df-convert');\n",
              "        buttonEl.style.display =\n",
              "          google.colab.kernel.accessAllowed ? 'block' : 'none';\n",
              "\n",
              "        async function convertToInteractive(key) {\n",
              "          const element = document.querySelector('#df-2c93020d-3781-4b21-9c04-e9721e0be32c');\n",
              "          const dataTable =\n",
              "            await google.colab.kernel.invokeFunction('convertToInteractive',\n",
              "                                                     [key], {});\n",
              "          if (!dataTable) return;\n",
              "\n",
              "          const docLinkHtml = 'Like what you see? Visit the ' +\n",
              "            '<a target=\"_blank\" href=https://colab.research.google.com/notebooks/data_table.ipynb>data table notebook</a>'\n",
              "            + ' to learn more about interactive tables.';\n",
              "          element.innerHTML = '';\n",
              "          dataTable['output_type'] = 'display_data';\n",
              "          await google.colab.output.renderOutput(dataTable, element);\n",
              "          const docLink = document.createElement('div');\n",
              "          docLink.innerHTML = docLinkHtml;\n",
              "          element.appendChild(docLink);\n",
              "        }\n",
              "      </script>\n",
              "    </div>\n",
              "  </div>\n",
              "  "
            ]
          },
          "metadata": {},
          "execution_count": 58
        }
      ]
    },
    {
      "cell_type": "code",
      "source": [
        "# Adding histogram\n",
        "sns.displot(df, y=\"region\",hue='type',multiple=\"stack\")"
      ],
      "metadata": {
        "colab": {
          "base_uri": "https://localhost:8080/",
          "height": 382
        },
        "id": "PeQzXHZqwwQE",
        "outputId": "c447d6ae-b897-48fe-f749-ff4ecc9cb41a"
      },
      "id": "PeQzXHZqwwQE",
      "execution_count": null,
      "outputs": [
        {
          "output_type": "execute_result",
          "data": {
            "text/plain": [
              "<seaborn.axisgrid.FacetGrid at 0x7f5138384ed0>"
            ]
          },
          "metadata": {},
          "execution_count": 59
        },
        {
          "output_type": "display_data",
          "data": {
            "text/plain": [
              "<Figure size 474.85x360 with 1 Axes>"
            ],
            "image/png": "[encoded data removed]"
          },
          "metadata": {}
        }
      ]
    },
    {
      "cell_type": "code",
      "source": [
        "#Adding Boxplot\n",
        "plt.figure(figsize=(16, 6))\n",
        "sns.set_theme(style=\"whitegrid\")\n",
        "ax = sns.boxplot(x=\"region\", y=\"price\",hue='type', data=df)"
      ],
      "metadata": {
        "colab": {
          "base_uri": "https://localhost:8080/",
          "height": 405
        },
        "id": "nk7yNDttG9w-",
        "outputId": "2dcceb08-3f51-4937-901b-c9d209bca946"
      },
      "id": "nk7yNDttG9w-",
      "execution_count": null,
      "outputs": [
        {
          "output_type": "display_data",
          "data": {
            "text/plain": [
              "<Figure size 1152x432 with 1 Axes>"
            ],
            "image/png": "[encoded data removed]"
          },
          "metadata": {}
        }
      ]
    },
    {
      "cell_type": "code",
      "source": [
        "data = [df['area_size'],df['no_of_units']]\n",
        "plt.figure(figsize=(16, 6))\n",
        "ax = sns.boxplot(data= data, orient=\"h\", palette=\"Set2\").set()"
      ],
      "metadata": {
        "colab": {
          "base_uri": "https://localhost:8080/",
          "height": 377
        },
        "id": "x3iSvvfdK-MD",
        "outputId": "42e7f01e-2e66-4050-98ee-05a82c0c9818"
      },
      "id": "x3iSvvfdK-MD",
      "execution_count": null,
      "outputs": [
        {
          "output_type": "display_data",
          "data": {
            "text/plain": [
              "<Figure size 1152x432 with 1 Axes>"
            ],
            "image/png": "[encoded data removed]"
          },
          "metadata": {}
        }
      ]
    },
    {
      "cell_type": "code",
      "source": [
        "# Generating heatmap\n",
        "plt.figure(figsize=(20, 8))\n",
        "heatmap = sns.heatmap(df.corr(), vmin=-1, vmax=1, annot=True)\n",
        "heatmap.set_title('Correlation Heatmap', fontdict={'fontsize':12}, pad=12);"
      ],
      "metadata": {
        "colab": {
          "base_uri": "https://localhost:8080/",
          "height": 508
        },
        "id": "FpUNkZbGV3m1",
        "outputId": "a0ca4561-48b4-417a-d406-b8aef3308ce2"
      },
      "id": "FpUNkZbGV3m1",
      "execution_count": null,
      "outputs": [
        {
          "output_type": "display_data",
          "data": {
            "text/plain": [
              "<Figure size 1440x576 with 2 Axes>"
            ],
            "image/png": "[encoded data removed]"
          },
          "metadata": {}
        }
      ]
    },
    {
      "cell_type": "code",
      "source": [
        ""
      ],
      "metadata": {
        "id": "2eDTi_viX8fJ"
      },
      "id": "2eDTi_viX8fJ",
      "execution_count": null,
      "outputs": []
    },
    {
      "cell_type": "code",
      "source": [
        "for col in df:\n",
        "    print(col, len(df[col].unique()))"
      ],
      "metadata": {
        "id": "nbFm5DMVfM-H",
        "outputId": "6c544e39-eb99-4ab0-ee15-7c8e715baf48",
        "colab": {
          "base_uri": "https://localhost:8080/"
        }
      },
      "id": "nbFm5DMVfM-H",
      "execution_count": null,
      "outputs": [
        {
          "output_type": "stream",
          "name": "stdout",
          "text": [
            "listing_id 26048\n",
            "name 1650\n",
            "street 3442\n",
            "type 2\n",
            "model 15\n",
            "market_segment 1\n",
            "type_of_area 1\n",
            "bedrooms 18\n",
            "bathrooms 10\n",
            "district 27\n",
            "region 5\n",
            "planning_area 38\n",
            "subszone 193\n",
            "lat 3118\n",
            "lng 3118\n",
            "tenure 54\n",
            "built_year 61\n",
            "no_of_units 527\n",
            "area_size 1179\n",
            "eco_category 1\n",
            "accessibility 1\n",
            "date_listed 359\n",
            "price 4704\n"
          ]
        }
      ]
    },
    {
      "cell_type": "markdown",
      "id": "a3fdd329-d65c-4783-b21d-e1acc4b75e91",
      "metadata": {
        "id": "a3fdd329-d65c-4783-b21d-e1acc4b75e91"
      },
      "source": [
        "## Data Cleaning"
      ]
    },
    {
      "cell_type": "code",
      "execution_count": null,
      "id": "a33269d6-14d0-45f9-87f9-0a0154432154",
      "metadata": {
        "id": "a33269d6-14d0-45f9-87f9-0a0154432154"
      },
      "outputs": [],
      "source": [
        "# Fix Data types to display description correctly \n",
        "\n",
        "# bedroom to float (and add 'x+y' items to float)\n",
        "def normalize_bedrooms(bed_row):\n",
        "    pattern = re.compile(\".[+].\")\n",
        "    if(bed_row != bed_row):\n",
        "        return bed_row\n",
        "    elif(pattern.match(bed_row)):\n",
        "        return int(bed_row[0]) + int(bed_row[2])\n",
        "    else:\n",
        "        return bed_row\n",
        "        \n",
        "df['bedrooms'] = df['bedrooms'].map(normalize_bedrooms)\n",
        "df['bedrooms'] = df['bedrooms'].astype(np.float64)"
      ]
    },
    {
      "cell_type": "code",
      "source": [
        "str1=\"3+5\"\n",
        "num=list()\n",
        "for i in str1.split('+'):\n",
        "  num.append(i)\n",
        "print(num)"
      ],
      "metadata": {
        "colab": {
          "base_uri": "https://localhost:8080/"
        },
        "id": "jeJYvDsgyHFL",
        "outputId": "e35b2819-6c34-4e29-8b51-fdd0229244b0"
      },
      "id": "jeJYvDsgyHFL",
      "execution_count": null,
      "outputs": [
        {
          "output_type": "stream",
          "name": "stdout",
          "text": [
            "['3', '5']\n"
          ]
        }
      ]
    },
    {
      "cell_type": "code",
      "execution_count": null,
      "id": "23ea347b-81b1-4563-89a4-722da2a65259",
      "metadata": {
        "id": "23ea347b-81b1-4563-89a4-722da2a65259"
      },
      "outputs": [],
      "source": [
        "# Drop Columns\n",
        "# listing_id, built_year\n",
        "# market_segment, type_of_area, eco_category, accessibility (have only one type each)\n",
        "\n",
        "df = df.drop(columns = ['listing_id',  'market_segment', 'type_of_area', 'eco_category', 'accessibility'])\n"
      ]
    },
    {
      "cell_type": "code",
      "source": [
        "df.isna().sum()"
      ],
      "metadata": {
        "colab": {
          "base_uri": "https://localhost:8080/"
        },
        "id": "Oa4KyFOCrL6j",
        "outputId": "7685b3d1-3f1e-4511-d03d-2515dc03657e"
      },
      "id": "Oa4KyFOCrL6j",
      "execution_count": null,
      "outputs": [
        {
          "output_type": "execute_result",
          "data": {
            "text/plain": [
              "name                 0\n",
              "street               0\n",
              "type                 0\n",
              "model             1280\n",
              "bedrooms           404\n",
              "bathrooms         1236\n",
              "district             0\n",
              "region               0\n",
              "planning_area        0\n",
              "subszone             0\n",
              "lat                  0\n",
              "lng                  0\n",
              "tenure             287\n",
              "built_year       10043\n",
              "no_of_units       1042\n",
              "area_size            2\n",
              "date_listed          0\n",
              "price                0\n",
              "dtype: int64"
            ]
          },
          "metadata": {},
          "execution_count": 66
        }
      ]
    },
    {
      "cell_type": "code",
      "execution_count": null,
      "id": "207ede5b-ee93-481c-91f2-61a588e66938",
      "metadata": {
        "id": "207ede5b-ee93-481c-91f2-61a588e66938"
      },
      "outputs": [],
      "source": [
        "# Handling NaN Values\n",
        "\n",
        "def impute_ordinal(df, ord_col):\n",
        "    for col in ord_col:\n",
        "        most_frequent = df[col].mode()[0]\n",
        "        df[col] = df[col].fillna(most_frequent)\n",
        "       \n",
        "    return df\n",
        "\n",
        "def impute_date(df, date_col):\n",
        "    for col in date_col:\n",
        "        most_frequent = df[col].mode()[0]\n",
        "        df[col] = df[col].fillna(most_frequent)\n",
        "    return df\n",
        "\n",
        "def impute_num(df, num_col):   \n",
        "    for col in num_col:\n",
        "        mean = df[col].mean(skipna = True)\n",
        "        df[col] = df[col].fillna(mean)\n",
        "    return df\n",
        "\n",
        "# df = df.dropna(axis = 0, how = 'any')\n",
        "\n",
        "\n",
        "# Impute Ordinal as 'unknown'\n",
        "ord_col = ['type', 'model', 'region', 'tenure']\n",
        "df = impute_ordinal(df, ord_col)\n",
        "\n",
        "# Impute Date NaNs with `most_frequent`\n",
        "date_col = ['date_listed']\n",
        "df = impute_date(df, date_col)\n",
        "\n",
        "# Impute numeric NaNs with 'mean'\n",
        "num_col = ['bedrooms', 'bathrooms', 'area_size', 'price']\n",
        "df = impute_num(df, num_col)\n"
      ]
    },
    {
      "cell_type": "code",
      "source": [
        "df1['built_year'].isna().sum()"
      ],
      "metadata": {
        "id": "eH3nbstirnUL",
        "outputId": "135909f5-660b-4794-cbe4-db95e43016ac",
        "colab": {
          "base_uri": "https://localhost:8080/"
        }
      },
      "id": "eH3nbstirnUL",
      "execution_count": null,
      "outputs": [
        {
          "output_type": "execute_result",
          "data": {
            "text/plain": [
              "2875"
            ]
          },
          "metadata": {},
          "execution_count": 68
        }
      ]
    },
    {
      "cell_type": "code",
      "source": [
        "df.isna().sum()"
      ],
      "metadata": {
        "colab": {
          "base_uri": "https://localhost:8080/"
        },
        "id": "LX7oxD60rYRR",
        "outputId": "8aaacd63-9235-427e-97b5-56d9e581335b"
      },
      "id": "LX7oxD60rYRR",
      "execution_count": null,
      "outputs": [
        {
          "output_type": "execute_result",
          "data": {
            "text/plain": [
              "name                 0\n",
              "street               0\n",
              "type                 0\n",
              "model                0\n",
              "bedrooms             0\n",
              "bathrooms            0\n",
              "district             0\n",
              "region               0\n",
              "planning_area        0\n",
              "subszone             0\n",
              "lat                  0\n",
              "lng                  0\n",
              "tenure               0\n",
              "built_year       10043\n",
              "no_of_units       1042\n",
              "area_size            0\n",
              "date_listed          0\n",
              "price                0\n",
              "dtype: int64"
            ]
          },
          "metadata": {},
          "execution_count": 69
        }
      ]
    },
    {
      "cell_type": "code",
      "source": [
        "df.info()"
      ],
      "metadata": {
        "id": "VcvksoESA-WF",
        "outputId": "34735193-222f-4cf1-c925-9775b9cac294",
        "colab": {
          "base_uri": "https://localhost:8080/"
        }
      },
      "id": "VcvksoESA-WF",
      "execution_count": null,
      "outputs": [
        {
          "output_type": "stream",
          "name": "stdout",
          "text": [
            "<class 'pandas.core.frame.DataFrame'>\n",
            "RangeIndex: 26048 entries, 0 to 26047\n",
            "Data columns (total 18 columns):\n",
            " #   Column         Non-Null Count  Dtype  \n",
            "---  ------         --------------  -----  \n",
            " 0   name           26048 non-null  object \n",
            " 1   street         26048 non-null  object \n",
            " 2   type           26048 non-null  object \n",
            " 3   model          26048 non-null  object \n",
            " 4   bedrooms       26048 non-null  float64\n",
            " 5   bathrooms      26048 non-null  float64\n",
            " 6   district       26048 non-null  int64  \n",
            " 7   region         26048 non-null  object \n",
            " 8   planning_area  26048 non-null  object \n",
            " 9   subszone       26048 non-null  object \n",
            " 10  lat            26048 non-null  float64\n",
            " 11  lng            26048 non-null  float64\n",
            " 12  tenure         26048 non-null  object \n",
            " 13  built_year     16005 non-null  float64\n",
            " 14  no_of_units    25006 non-null  float64\n",
            " 15  area_size      26048 non-null  float64\n",
            " 16  date_listed    26048 non-null  object \n",
            " 17  price          26048 non-null  float64\n",
            "dtypes: float64(8), int64(1), object(9)\n",
            "memory usage: 3.6+ MB\n"
          ]
        }
      ]
    },
    {
      "cell_type": "code",
      "execution_count": null,
      "id": "58e542b6-ffd3-45b7-904a-fdda13139837",
      "metadata": {
        "id": "58e542b6-ffd3-45b7-904a-fdda13139837"
      },
      "outputs": [],
      "source": [
        "# Handle Dates\n",
        "# date_listed -> separate into day_listed, month_listed, year_listed\n",
        "\n",
        "def get_separated_dates(date, t='d'):\n",
        "    p = re.compile(\"(\\d+)-(\\d+)-(\\d+)\")\n",
        "    \n",
        "    p_match = p.match(date)\n",
        "    d = int(p_match.group(3))\n",
        "    m = int(p_match.group(2))\n",
        "    y = int(p_match.group(1))\n",
        "    \n",
        "    if t == 'd':\n",
        "        return d\n",
        "    if t == 'm':\n",
        "        return m\n",
        "    if t == 'y':\n",
        "        return y\n",
        "    \n",
        "d = df['date_listed'].apply(lambda x: get_separated_dates(x, t='d'))\n",
        "m = df['date_listed'].apply(lambda x: get_separated_dates(x, t='m'))\n",
        "y = df['date_listed'].apply(lambda x: get_separated_dates(x, t='y'))\n",
        "\n",
        "df['day_listed'] = d\n",
        "df['month_listed'] =  m\n",
        "df['year_listed'] = y\n",
        "\n"
      ]
    },
    {
      "cell_type": "code",
      "source": [
        "# Handling Built year\n",
        "names = list(df[\"name\"].unique())\n",
        "for name in names:\n",
        "    # print(name)\n",
        "    temp_df = df[df[\"name\"] == name]\n",
        "    try:\n",
        "        temp_df[\"built_year\"] = temp_df[\"built_year\"].fillna(temp_df[\"built_year\"].mode().iloc[0])\n",
        "    except:\n",
        "        temp_df[\"built_year\"] = temp_df[\"built_year\"].fillna(int(temp_df[\"date_listed\"].min().split(\"-\")[0]))\n",
        "\n",
        "            \n",
        "    try:\n",
        "        temp_df[\"no_of_units\"] = temp_df[\"no_of_units\"].fillna(temp_df[\"no_of_units\"].mode().iloc[0])\n",
        "    except:\n",
        "        temp_df[\"no_of_units\"] = temp_df[\"no_of_units\"].fillna(len(temp_df))\n",
        "        \n",
        "\n",
        "\n",
        "    for idx, row in temp_df.iterrows():\n",
        "        df.loc[idx] = row"
      ],
      "metadata": {
        "id": "IvwM_rCM5xFt",
        "outputId": "30752fbf-db97-461c-8558-0e12cef5eb6d",
        "colab": {
          "base_uri": "https://localhost:8080/"
        }
      },
      "id": "IvwM_rCM5xFt",
      "execution_count": null,
      "outputs": [
        {
          "output_type": "stream",
          "name": "stderr",
          "text": [
            "/usr/local/lib/python3.7/dist-packages/ipykernel_launcher.py:7: SettingWithCopyWarning: \n",
            "A value is trying to be set on a copy of a slice from a DataFrame.\n",
            "Try using .loc[row_indexer,col_indexer] = value instead\n",
            "\n",
            "See the caveats in the documentation: https://pandas.pydata.org/pandas-docs/stable/user_guide/indexing.html#returning-a-view-versus-a-copy\n",
            "  import sys\n",
            "/usr/local/lib/python3.7/dist-packages/ipykernel_launcher.py:13: SettingWithCopyWarning: \n",
            "A value is trying to be set on a copy of a slice from a DataFrame.\n",
            "Try using .loc[row_indexer,col_indexer] = value instead\n",
            "\n",
            "See the caveats in the documentation: https://pandas.pydata.org/pandas-docs/stable/user_guide/indexing.html#returning-a-view-versus-a-copy\n",
            "  del sys.path[0]\n",
            "/usr/local/lib/python3.7/dist-packages/ipykernel_launcher.py:9: SettingWithCopyWarning: \n",
            "A value is trying to be set on a copy of a slice from a DataFrame.\n",
            "Try using .loc[row_indexer,col_indexer] = value instead\n",
            "\n",
            "See the caveats in the documentation: https://pandas.pydata.org/pandas-docs/stable/user_guide/indexing.html#returning-a-view-versus-a-copy\n",
            "  if __name__ == '__main__':\n",
            "/usr/local/lib/python3.7/dist-packages/ipykernel_launcher.py:15: SettingWithCopyWarning: \n",
            "A value is trying to be set on a copy of a slice from a DataFrame.\n",
            "Try using .loc[row_indexer,col_indexer] = value instead\n",
            "\n",
            "See the caveats in the documentation: https://pandas.pydata.org/pandas-docs/stable/user_guide/indexing.html#returning-a-view-versus-a-copy\n",
            "  from ipykernel import kernelapp as app\n"
          ]
        }
      ]
    },
    {
      "cell_type": "code",
      "source": [
        "df = df.drop('date_listed', axis=1)"
      ],
      "metadata": {
        "id": "xhcdr13vyHay"
      },
      "id": "xhcdr13vyHay",
      "execution_count": null,
      "outputs": []
    },
    {
      "cell_type": "code",
      "execution_count": null,
      "id": "1ea7487e-57d6-4d35-94a3-44bb9345527d",
      "metadata": {
        "id": "1ea7487e-57d6-4d35-94a3-44bb9345527d"
      },
      "outputs": [],
      "source": [
        "# Convert tenure to Ordinal\n",
        "# tenure -> convert into categorical with categories: {freehold, <99, 99, 99<x<150, >=900}\n",
        "def convert_tenure_to_cat(t_row):\n",
        "    \n",
        "    def categorize(year):\n",
        "        if year < 99:\n",
        "            return '_99'\n",
        "        elif year == 99:\n",
        "            return '99'\n",
        "        elif year > 99 and year < 200:\n",
        "            return '99_x_200'\n",
        "        elif year >= 900:\n",
        "            return '__900'\n",
        "    \n",
        "    pattern_years_from = re.compile(\"(\\d+) (years) from\")\n",
        "    pattern_leasehold = re.compile(\"(leasehold/)(\\d+) (years)\")\n",
        "    pattern_years = re.compile(\"^(\\d+) (years)$\")\n",
        "    \n",
        "    if(t_row != t_row):\n",
        "        return t_row\n",
        "    elif(pattern_years_from.match(t_row)):\n",
        "        year = int(pattern_years_from.match(t_row).group(1))\n",
        "        return categorize(year)\n",
        "    elif(pattern_leasehold.match(t_row)):\n",
        "        year = int(pattern_leasehold.match(t_row).group(2))\n",
        "        return categorize(year)\n",
        "    elif(pattern_years.match(t_row)):\n",
        "        year = int(pattern_years.match(t_row).group(1))\n",
        "        return categorize(year)\n",
        "    else:\n",
        "        return t_row\n",
        "        \n",
        "df['tenure'] = df['tenure'].map(convert_tenure_to_cat)"
      ]
    },
    {
      "cell_type": "code",
      "source": [
        "df['tenure'].unique()"
      ],
      "metadata": {
        "colab": {
          "base_uri": "https://localhost:8080/"
        },
        "id": "6ivCkfbYtKEh",
        "outputId": "3cb9c5e8-b5d3-466a-fd87-8d0a1f0fdffe"
      },
      "id": "6ivCkfbYtKEh",
      "execution_count": null,
      "outputs": [
        {
          "output_type": "execute_result",
          "data": {
            "text/plain": [
              "array(['99', 'freehold', '__900', '_99', '99_x_200'], dtype=object)"
            ]
          },
          "metadata": {},
          "execution_count": 75
        }
      ]
    },
    {
      "cell_type": "code",
      "source": [
        "# Prepare model classes\n",
        "def normalize_model_class(df, model_class):\n",
        "    model_class_test = df['model'].unique()\n",
        "    i = 0\n",
        "    \n",
        "    for c in model_class_test:\n",
        "        if c in model_class:\n",
        "            i = i + 1\n",
        "        else:\n",
        "            df.loc[df.model == c, 'model'] = 'unknown'\n",
        "\n",
        "    return df\n",
        "\n",
        "model_class = ['condominium', 'apartment', 'executive condominium', 'penthouse', 'townhouse', 'walk-up apt', 'unknown']\n",
        "df = normalize_model_class(df, model_class)\n",
        "planning_area_class = df['planning_area'].unique()"
      ],
      "metadata": {
        "id": "7mICBBsN6539"
      },
      "id": "7mICBBsN6539",
      "execution_count": null,
      "outputs": []
    },
    {
      "cell_type": "code",
      "source": [
        "df['model'].unique()"
      ],
      "metadata": {
        "colab": {
          "base_uri": "https://localhost:8080/"
        },
        "id": "ywi5evlRtamP",
        "outputId": "4028edd3-321b-4864-8376-3c489afd2acf"
      },
      "id": "ywi5evlRtamP",
      "execution_count": null,
      "outputs": [
        {
          "output_type": "execute_result",
          "data": {
            "text/plain": [
              "array(['condominium', 'apartment', 'executive condominium', 'walk-up apt',\n",
              "       'townhouse', 'unknown', 'penthouse'], dtype=object)"
            ]
          },
          "metadata": {},
          "execution_count": 77
        }
      ]
    },
    {
      "cell_type": "code",
      "source": [
        "df.info()"
      ],
      "metadata": {
        "colab": {
          "base_uri": "https://localhost:8080/"
        },
        "id": "Is9vgH-g8fuh",
        "outputId": "92127d0f-41af-41b1-de83-276a0fc35f35"
      },
      "id": "Is9vgH-g8fuh",
      "execution_count": null,
      "outputs": [
        {
          "output_type": "stream",
          "name": "stdout",
          "text": [
            "<class 'pandas.core.frame.DataFrame'>\n",
            "RangeIndex: 26048 entries, 0 to 26047\n",
            "Data columns (total 20 columns):\n",
            " #   Column         Non-Null Count  Dtype  \n",
            "---  ------         --------------  -----  \n",
            " 0   name           26048 non-null  object \n",
            " 1   street         26048 non-null  object \n",
            " 2   type           26048 non-null  object \n",
            " 3   model          26048 non-null  object \n",
            " 4   bedrooms       26048 non-null  float64\n",
            " 5   bathrooms      26048 non-null  float64\n",
            " 6   district       26048 non-null  int64  \n",
            " 7   region         26048 non-null  object \n",
            " 8   planning_area  26048 non-null  object \n",
            " 9   subszone       26048 non-null  object \n",
            " 10  lat            26048 non-null  float64\n",
            " 11  lng            26048 non-null  float64\n",
            " 12  tenure         26048 non-null  object \n",
            " 13  built_year     26048 non-null  float64\n",
            " 14  no_of_units    26048 non-null  float64\n",
            " 15  area_size      26048 non-null  float64\n",
            " 16  price          26048 non-null  float64\n",
            " 17  day_listed     26048 non-null  int64  \n",
            " 18  month_listed   26048 non-null  int64  \n",
            " 19  year_listed    26048 non-null  int64  \n",
            "dtypes: float64(8), int64(4), object(8)\n",
            "memory usage: 4.0+ MB\n"
          ]
        }
      ]
    },
    {
      "cell_type": "code",
      "source": [
        "for col in df:\n",
        "    print(col, len(df[col].unique()))"
      ],
      "metadata": {
        "colab": {
          "base_uri": "https://localhost:8080/"
        },
        "id": "Q56hloiG-6Wx",
        "outputId": "875723d3-07b7-4079-ae1f-5c46f77fed20"
      },
      "id": "Q56hloiG-6Wx",
      "execution_count": null,
      "outputs": [
        {
          "output_type": "stream",
          "name": "stdout",
          "text": [
            "name 1650\n",
            "street 3442\n",
            "type 2\n",
            "model 7\n",
            "bedrooms 10\n",
            "bathrooms 10\n",
            "district 27\n",
            "region 5\n",
            "planning_area 38\n",
            "subszone 193\n",
            "lat 3118\n",
            "lng 3118\n",
            "tenure 5\n",
            "built_year 61\n",
            "no_of_units 529\n",
            "area_size 1179\n",
            "price 4704\n",
            "day_listed 31\n",
            "month_listed 12\n",
            "year_listed 3\n"
          ]
        }
      ]
    },
    {
      "cell_type": "code",
      "source": [
        "df = df.drop(columns=['lat', 'lng'])"
      ],
      "metadata": {
        "id": "dHi-NFpCMYxv"
      },
      "id": "dHi-NFpCMYxv",
      "execution_count": null,
      "outputs": []
    },
    {
      "cell_type": "code",
      "source": [
        "# Generating heatmap\n",
        "plt.figure(figsize=(16, 6))\n",
        "heatmap = sns.heatmap(df.corr(), vmin=-1, vmax=1, annot=True)\n",
        "heatmap.set_title('Correlation Heatmap', fontdict={'fontsize':12}, pad=12);"
      ],
      "metadata": {
        "colab": {
          "base_uri": "https://localhost:8080/",
          "height": 399
        },
        "id": "NuhKTG4mYThI",
        "outputId": "cd385046-c21e-4d2f-e438-cdf7f8ec1011"
      },
      "id": "NuhKTG4mYThI",
      "execution_count": null,
      "outputs": [
        {
          "output_type": "display_data",
          "data": {
            "text/plain": [
              "<Figure size 1152x432 with 2 Axes>"
            ],
            "image/png": "[encoded data removed]"
          },
          "metadata": {}
        }
      ]
    },
    {
      "cell_type": "code",
      "execution_count": null,
      "id": "76d07802-99de-4474-a2ad-547d27d9ff9e",
      "metadata": {
        "id": "76d07802-99de-4474-a2ad-547d27d9ff9e"
      },
      "outputs": [],
      "source": [
        "# One Hot encoding\n",
        "df = pd.get_dummies(df, columns = ['type', 'model', 'region', 'tenure'])"
      ]
    },
    {
      "cell_type": "code",
      "source": [
        "df.info()"
      ],
      "metadata": {
        "colab": {
          "base_uri": "https://localhost:8080/"
        },
        "id": "Ay3NuB06CwJV",
        "outputId": "913e7131-7658-4dbe-abe8-0aff827fd855"
      },
      "id": "Ay3NuB06CwJV",
      "execution_count": null,
      "outputs": [
        {
          "output_type": "stream",
          "name": "stdout",
          "text": [
            "<class 'pandas.core.frame.DataFrame'>\n",
            "RangeIndex: 26048 entries, 0 to 26047\n",
            "Data columns (total 33 columns):\n",
            " #   Column                       Non-Null Count  Dtype  \n",
            "---  ------                       --------------  -----  \n",
            " 0   name                         26048 non-null  object \n",
            " 1   street                       26048 non-null  object \n",
            " 2   bedrooms                     26048 non-null  float64\n",
            " 3   bathrooms                    26048 non-null  float64\n",
            " 4   district                     26048 non-null  int64  \n",
            " 5   planning_area                26048 non-null  object \n",
            " 6   subszone                     26048 non-null  object \n",
            " 7   built_year                   26048 non-null  float64\n",
            " 8   no_of_units                  26048 non-null  float64\n",
            " 9   area_size                    26048 non-null  float64\n",
            " 10  price                        26048 non-null  float64\n",
            " 11  day_listed                   26048 non-null  int64  \n",
            " 12  month_listed                 26048 non-null  int64  \n",
            " 13  year_listed                  26048 non-null  int64  \n",
            " 14  type_apartment               26048 non-null  uint8  \n",
            " 15  type_condominium             26048 non-null  uint8  \n",
            " 16  model_apartment              26048 non-null  uint8  \n",
            " 17  model_condominium            26048 non-null  uint8  \n",
            " 18  model_executive condominium  26048 non-null  uint8  \n",
            " 19  model_penthouse              26048 non-null  uint8  \n",
            " 20  model_townhouse              26048 non-null  uint8  \n",
            " 21  model_unknown                26048 non-null  uint8  \n",
            " 22  model_walk-up apt            26048 non-null  uint8  \n",
            " 23  region_central region        26048 non-null  uint8  \n",
            " 24  region_east region           26048 non-null  uint8  \n",
            " 25  region_north region          26048 non-null  uint8  \n",
            " 26  region_north-east region     26048 non-null  uint8  \n",
            " 27  region_west region           26048 non-null  uint8  \n",
            " 28  tenure_99                    26048 non-null  uint8  \n",
            " 29  tenure_99_x_200              26048 non-null  uint8  \n",
            " 30  tenure__99                   26048 non-null  uint8  \n",
            " 31  tenure___900                 26048 non-null  uint8  \n",
            " 32  tenure_freehold              26048 non-null  uint8  \n",
            "dtypes: float64(6), int64(4), object(4), uint8(19)\n",
            "memory usage: 3.3+ MB\n"
          ]
        }
      ]
    },
    {
      "cell_type": "code",
      "execution_count": null,
      "id": "30834283-7e85-4451-a6f1-3d5962c216cc",
      "metadata": {
        "id": "30834283-7e85-4451-a6f1-3d5962c216cc"
      },
      "outputs": [],
      "source": [
        "# Normalize Numerical Values\n",
        "\n",
        "# min_df = {}\n",
        "# max_df = {}\n",
        "# for i,att in enumerate(df.describe(exclude=['O']).columns):\n",
        "#     if(df[att].min() == 0 and (df[att].max() == 1 or df[att].max() == 0)):\n",
        "#         continue\n",
        "#     else:\n",
        "#         min_df[att] = df[att].min()\n",
        "#         max_df[att] = df[att].max()\n",
        "#         df[att] = (df[att] - df[att].min())/(df[att].max() - df[att].min())\n"
      ]
    },
    {
      "cell_type": "code",
      "execution_count": null,
      "id": "cc61704e-5bab-4377-83e6-3f030372a4e1",
      "metadata": {
        "id": "cc61704e-5bab-4377-83e6-3f030372a4e1",
        "outputId": "0e339a7e-d819-4f51-def5-693891cf4479",
        "colab": {
          "base_uri": "https://localhost:8080/",
          "height": 473
        }
      },
      "outputs": [
        {
          "output_type": "stream",
          "name": "stdout",
          "text": [
            "26048\n",
            "33\n"
          ]
        },
        {
          "output_type": "execute_result",
          "data": {
            "text/plain": [
              "                   name             street  bedrooms  bathrooms  district  \\\n",
              "0              seascape       57 cove way        3.0        4.0         4   \n",
              "1             la maison  10 moulmein rise        3.0        3.0        11   \n",
              "2                  viva    2 suffolk walk        4.0        3.0        11   \n",
              "3       urban treasures   205 jalan eunos        3.0        2.0        14   \n",
              "4  infini at east coast    east coast road       3.0        3.0        15   \n",
              "\n",
              "      planning_area    subszone  built_year  no_of_units  area_size  ...  \\\n",
              "0  southern islands     sentosa      2011.0        151.0     2336.0  ...   \n",
              "1            novena    moulmein      1999.0         24.0     1259.0  ...   \n",
              "2            novena    moulmein      2012.0        235.0     1959.0  ...   \n",
              "3             bedok  kaki bukit      1930.0        237.0      883.0  ...   \n",
              "4             bedok     frankel      2021.0         36.0     1066.0  ...   \n",
              "\n",
              "   region_central region  region_east region  region_north region  \\\n",
              "0                      1                   0                    0   \n",
              "1                      1                   0                    0   \n",
              "2                      1                   0                    0   \n",
              "3                      0                   1                    0   \n",
              "4                      0                   1                    0   \n",
              "\n",
              "   region_north-east region  region_west region  tenure_99  tenure_99_x_200  \\\n",
              "0                         0                   0          1                0   \n",
              "1                         0                   0          0                0   \n",
              "2                         0                   0          0                0   \n",
              "3                         0                   0          0                0   \n",
              "4                         0                   0          0                0   \n",
              "\n",
              "   tenure__99  tenure___900  tenure_freehold  \n",
              "0           0             0                0  \n",
              "1           0             0                1  \n",
              "2           0             0                1  \n",
              "3           0             0                1  \n",
              "4           0             0                1  \n",
              "\n",
              "[5 rows x 33 columns]"
            ],
            "text/html": [
              "\n",
              "  <div id=\"df-2fc14e0e-cdfb-45bc-806f-378200bf2e03\">\n",
              "    <div class=\"colab-df-container\">\n",
              "      <div>\n",
              "<style scoped>\n",
              "    .dataframe tbody tr th:only-of-type {\n",
              "        vertical-align: middle;\n",
              "    }\n",
              "\n",
              "    .dataframe tbody tr th {\n",
              "        vertical-align: top;\n",
              "    }\n",
              "\n",
              "    .dataframe thead th {\n",
              "        text-align: right;\n",
              "    }\n",
              "</style>\n",
              "<table border=\"1\" class=\"dataframe\">\n",
              "  <thead>\n",
              "    <tr style=\"text-align: right;\">\n",
              "      <th></th>\n",
              "      <th>name</th>\n",
              "      <th>street</th>\n",
              "      <th>bedrooms</th>\n",
              "      <th>bathrooms</th>\n",
              "      <th>district</th>\n",
              "      <th>planning_area</th>\n",
              "      <th>subszone</th>\n",
              "      <th>built_year</th>\n",
              "      <th>no_of_units</th>\n",
              "      <th>area_size</th>\n",
              "      <th>...</th>\n",
              "      <th>region_central region</th>\n",
              "      <th>region_east region</th>\n",
              "      <th>region_north region</th>\n",
              "      <th>region_north-east region</th>\n",
              "      <th>region_west region</th>\n",
              "      <th>tenure_99</th>\n",
              "      <th>tenure_99_x_200</th>\n",
              "      <th>tenure__99</th>\n",
              "      <th>tenure___900</th>\n",
              "      <th>tenure_freehold</th>\n",
              "    </tr>\n",
              "  </thead>\n",
              "  <tbody>\n",
              "    <tr>\n",
              "      <th>0</th>\n",
              "      <td>seascape</td>\n",
              "      <td>57 cove way</td>\n",
              "      <td>3.0</td>\n",
              "      <td>4.0</td>\n",
              "      <td>4</td>\n",
              "      <td>southern islands</td>\n",
              "      <td>sentosa</td>\n",
              "      <td>2011.0</td>\n",
              "      <td>151.0</td>\n",
              "      <td>2336.0</td>\n",
              "      <td>...</td>\n",
              "      <td>1</td>\n",
              "      <td>0</td>\n",
              "      <td>0</td>\n",
              "      <td>0</td>\n",
              "      <td>0</td>\n",
              "      <td>1</td>\n",
              "      <td>0</td>\n",
              "      <td>0</td>\n",
              "      <td>0</td>\n",
              "      <td>0</td>\n",
              "    </tr>\n",
              "    <tr>\n",
              "      <th>1</th>\n",
              "      <td>la maison</td>\n",
              "      <td>10 moulmein rise</td>\n",
              "      <td>3.0</td>\n",
              "      <td>3.0</td>\n",
              "      <td>11</td>\n",
              "      <td>novena</td>\n",
              "      <td>moulmein</td>\n",
              "      <td>1999.0</td>\n",
              "      <td>24.0</td>\n",
              "      <td>1259.0</td>\n",
              "      <td>...</td>\n",
              "      <td>1</td>\n",
              "      <td>0</td>\n",
              "      <td>0</td>\n",
              "      <td>0</td>\n",
              "      <td>0</td>\n",
              "      <td>0</td>\n",
              "      <td>0</td>\n",
              "      <td>0</td>\n",
              "      <td>0</td>\n",
              "      <td>1</td>\n",
              "    </tr>\n",
              "    <tr>\n",
              "      <th>2</th>\n",
              "      <td>viva</td>\n",
              "      <td>2 suffolk walk</td>\n",
              "      <td>4.0</td>\n",
              "      <td>3.0</td>\n",
              "      <td>11</td>\n",
              "      <td>novena</td>\n",
              "      <td>moulmein</td>\n",
              "      <td>2012.0</td>\n",
              "      <td>235.0</td>\n",
              "      <td>1959.0</td>\n",
              "      <td>...</td>\n",
              "      <td>1</td>\n",
              "      <td>0</td>\n",
              "      <td>0</td>\n",
              "      <td>0</td>\n",
              "      <td>0</td>\n",
              "      <td>0</td>\n",
              "      <td>0</td>\n",
              "      <td>0</td>\n",
              "      <td>0</td>\n",
              "      <td>1</td>\n",
              "    </tr>\n",
              "    <tr>\n",
              "      <th>3</th>\n",
              "      <td>urban treasures</td>\n",
              "      <td>205 jalan eunos</td>\n",
              "      <td>3.0</td>\n",
              "      <td>2.0</td>\n",
              "      <td>14</td>\n",
              "      <td>bedok</td>\n",
              "      <td>kaki bukit</td>\n",
              "      <td>1930.0</td>\n",
              "      <td>237.0</td>\n",
              "      <td>883.0</td>\n",
              "      <td>...</td>\n",
              "      <td>0</td>\n",
              "      <td>1</td>\n",
              "      <td>0</td>\n",
              "      <td>0</td>\n",
              "      <td>0</td>\n",
              "      <td>0</td>\n",
              "      <td>0</td>\n",
              "      <td>0</td>\n",
              "      <td>0</td>\n",
              "      <td>1</td>\n",
              "    </tr>\n",
              "    <tr>\n",
              "      <th>4</th>\n",
              "      <td>infini at east coast</td>\n",
              "      <td>east coast road</td>\n",
              "      <td>3.0</td>\n",
              "      <td>3.0</td>\n",
              "      <td>15</td>\n",
              "      <td>bedok</td>\n",
              "      <td>frankel</td>\n",
              "      <td>2021.0</td>\n",
              "      <td>36.0</td>\n",
              "      <td>1066.0</td>\n",
              "      <td>...</td>\n",
              "      <td>0</td>\n",
              "      <td>1</td>\n",
              "      <td>0</td>\n",
              "      <td>0</td>\n",
              "      <td>0</td>\n",
              "      <td>0</td>\n",
              "      <td>0</td>\n",
              "      <td>0</td>\n",
              "      <td>0</td>\n",
              "      <td>1</td>\n",
              "    </tr>\n",
              "  </tbody>\n",
              "</table>\n",
              "<p>5 rows × 33 columns</p>\n",
              "</div>\n",
              "      <button class=\"colab-df-convert\" onclick=\"convertToInteractive('df-2fc14e0e-cdfb-45bc-806f-378200bf2e03')\"\n",
              "              title=\"Convert this dataframe to an interactive table.\"\n",
              "              style=\"display:none;\">\n",
              "        \n",
              "  <svg xmlns=\"http://www.w3.org/2000/svg\" height=\"24px\"viewBox=\"0 0 24 24\"\n",
              "       width=\"24px\">\n",
              "    <path d=\"M0 0h24v24H0V0z\" fill=\"none\"/>\n",
              "    <path d=\"M18.56 5.44l.94 2.06.94-2.06 2.06-.94-2.06-.94-.94-2.06-.94 2.06-2.06.94zm-11 1L8.5 8.5l.94-2.06 2.06-.94-2.06-.94L8.5 2.5l-.94 2.06-2.06.94zm10 10l.94 2.06.94-2.06 2.06-.94-2.06-.94-.94-2.06-.94 2.06-2.06.94z\"/><path d=\"M17.41 7.96l-1.37-1.37c-.4-.4-.92-.59-1.43-.59-.52 0-1.04.2-1.43.59L10.3 9.45l-7.72 7.72c-.78.78-.78 2.05 0 2.83L4 21.41c.39.39.9.59 1.41.59.51 0 1.02-.2 1.41-.59l7.78-7.78 2.81-2.81c.8-.78.8-2.07 0-2.86zM5.41 20L4 18.59l7.72-7.72 1.47 1.35L5.41 20z\"/>\n",
              "  </svg>\n",
              "      </button>\n",
              "      \n",
              "  <style>\n",
              "    .colab-df-container {\n",
              "      display:flex;\n",
              "      flex-wrap:wrap;\n",
              "      gap: 12px;\n",
              "    }\n",
              "\n",
              "    .colab-df-convert {\n",
              "      background-color: #E8F0FE;\n",
              "      border: none;\n",
              "      border-radius: 50%;\n",
              "      cursor: pointer;\n",
              "      display: none;\n",
              "      fill: #1967D2;\n",
              "      height: 32px;\n",
              "      padding: 0 0 0 0;\n",
              "      width: 32px;\n",
              "    }\n",
              "\n",
              "    .colab-df-convert:hover {\n",
              "      background-color: #E2EBFA;\n",
              "      box-shadow: 0px 1px 2px rgba(60, 64, 67, 0.3), 0px 1px 3px 1px rgba(60, 64, 67, 0.15);\n",
              "      fill: #174EA6;\n",
              "    }\n",
              "\n",
              "    [theme=dark] .colab-df-convert {\n",
              "      background-color: #3B4455;\n",
              "      fill: #D2E3FC;\n",
              "    }\n",
              "\n",
              "    [theme=dark] .colab-df-convert:hover {\n",
              "      background-color: #434B5C;\n",
              "      box-shadow: 0px 1px 3px 1px rgba(0, 0, 0, 0.15);\n",
              "      filter: drop-shadow(0px 1px 2px rgba(0, 0, 0, 0.3));\n",
              "      fill: #FFFFFF;\n",
              "    }\n",
              "  </style>\n",
              "\n",
              "      <script>\n",
              "        const buttonEl =\n",
              "          document.querySelector('#df-2fc14e0e-cdfb-45bc-806f-378200bf2e03 button.colab-df-convert');\n",
              "        buttonEl.style.display =\n",
              "          google.colab.kernel.accessAllowed ? 'block' : 'none';\n",
              "\n",
              "        async function convertToInteractive(key) {\n",
              "          const element = document.querySelector('#df-2fc14e0e-cdfb-45bc-806f-378200bf2e03');\n",
              "          const dataTable =\n",
              "            await google.colab.kernel.invokeFunction('convertToInteractive',\n",
              "                                                     [key], {});\n",
              "          if (!dataTable) return;\n",
              "\n",
              "          const docLinkHtml = 'Like what you see? Visit the ' +\n",
              "            '<a target=\"_blank\" href=https://colab.research.google.com/notebooks/data_table.ipynb>data table notebook</a>'\n",
              "            + ' to learn more about interactive tables.';\n",
              "          element.innerHTML = '';\n",
              "          dataTable['output_type'] = 'display_data';\n",
              "          await google.colab.output.renderOutput(dataTable, element);\n",
              "          const docLink = document.createElement('div');\n",
              "          docLink.innerHTML = docLinkHtml;\n",
              "          element.appendChild(docLink);\n",
              "        }\n",
              "      </script>\n",
              "    </div>\n",
              "  </div>\n",
              "  "
            ]
          },
          "metadata": {},
          "execution_count": 85
        }
      ],
      "source": [
        "print(len(df))\n",
        "print(len(df.columns.unique()))\n",
        "df.head()"
      ]
    },
    {
      "cell_type": "markdown",
      "id": "9851eb0b-d8f7-4ae7-ac27-1c4c931374b4",
      "metadata": {
        "id": "9851eb0b-d8f7-4ae7-ac27-1c4c931374b4"
      },
      "source": [
        "## Training Model "
      ]
    },
    {
      "cell_type": "code",
      "source": [
        ""
      ],
      "metadata": {
        "id": "BSJay8z1ZFey"
      },
      "id": "BSJay8z1ZFey",
      "execution_count": null,
      "outputs": []
    },
    {
      "cell_type": "markdown",
      "id": "ac04cf6d-f8fb-48bd-afb8-192a0ea6312d",
      "metadata": {
        "id": "ac04cf6d-f8fb-48bd-afb8-192a0ea6312d"
      },
      "source": [
        "## Testing"
      ]
    },
    {
      "cell_type": "code",
      "execution_count": null,
      "id": "b492d143-d139-4905-b7d5-7598fc03ce63",
      "metadata": {
        "id": "b492d143-d139-4905-b7d5-7598fc03ce63"
      },
      "outputs": [],
      "source": [
        "# Testing data Preprocessing\n",
        "def preprocess_test(df, model_class):\n",
        "    def normalize_bedrooms(bed_row):\n",
        "        pattern_1 = re.compile(\"(\\d+)[+](\\d+)\")\n",
        "        pattern_2 = re.compile(\"(\\d+)[+]\")\n",
        "        if(bed_row != bed_row):\n",
        "            return bed_row\n",
        "        elif(pattern_1.match(bed_row)):\n",
        "            return pattern_1.match(bed_row).group(1) + pattern_1.match(bed_row).group(2) \n",
        "        elif(pattern_2.match(bed_row)):\n",
        "            return pattern_2.match(bed_row).group(1)\n",
        "        else:\n",
        "            return bed_row\n",
        "    \n",
        "    def get_separated_dates(date, t='d'):\n",
        "        p = re.compile(\"(\\d+)-(\\d+)-(\\d+)\")\n",
        "\n",
        "        p_match = p.match(date)\n",
        "        d = int(p_match.group(3))\n",
        "        m = int(p_match.group(2))\n",
        "        y = int(p_match.group(1))\n",
        "\n",
        "        if t == 'd':\n",
        "            return d\n",
        "        if t == 'm':\n",
        "            return m\n",
        "        if t == 'y':\n",
        "            return y\n",
        "    \n",
        "    def convert_tenure_to_cat(t_row):\n",
        "    \n",
        "        def categorize(year):\n",
        "            if year < 99:\n",
        "                return '_99'\n",
        "            elif year == 99:\n",
        "                return '99'\n",
        "            elif year > 99 and year < 200:\n",
        "                return '99_x_200'\n",
        "            elif year >= 900:\n",
        "                return '__900'\n",
        "\n",
        "        pattern_years_from = re.compile(\"(\\d+) (years) from\")\n",
        "        pattern_leasehold = re.compile(\"(leasehold/)(\\d+) (years)\")\n",
        "        pattern_years = re.compile(\"^(\\d+) (years)$\")\n",
        "\n",
        "        if(t_row != t_row):\n",
        "            return t_row\n",
        "        elif(pattern_years_from.match(t_row)):\n",
        "            year = int(pattern_years_from.match(t_row).group(1))\n",
        "            return categorize(year)\n",
        "        elif(pattern_leasehold.match(t_row)):\n",
        "            year = int(pattern_leasehold.match(t_row).group(2))\n",
        "            return categorize(year)\n",
        "        elif(pattern_years.match(t_row)):\n",
        "            year = int(pattern_years.match(t_row).group(1))\n",
        "            return categorize(year)\n",
        "        else:\n",
        "            return t_row\n",
        "    \n",
        "    def normalize_model_class(df, model_class):\n",
        "        model_class_test = df['model'].unique()\n",
        "        i = 0\n",
        "\n",
        "        for c in model_class_test:\n",
        "            if c in model_class:\n",
        "                i = i + 1\n",
        "            else:\n",
        "                df.loc[df.model == c, 'model'] = 'unknown'\n",
        "\n",
        "        return df\n",
        "    \n",
        "    def impute_ordinal(df, ord_col):\n",
        "        for col in ord_col:\n",
        "            most_frequent = df[col].mode()[0]\n",
        "            df[col] = df[col].fillna(most_frequent)\n",
        "            # df[col] = df[col].fillna(value='unknown', axis=0)\n",
        "        return df\n",
        "\n",
        "    def impute_date(df, date_col):\n",
        "        for col in date_col:\n",
        "            most_frequent = df[col].mode()[0]\n",
        "            df[col] = df[col].fillna(most_frequent)\n",
        "        return df\n",
        "\n",
        "    def impute_num(df, num_col):   \n",
        "        for col in num_col:\n",
        "            mean = df[col].mean(skipna = True)\n",
        "            df[col] = df[col].fillna(mean)\n",
        "        return df\n",
        "    \n",
        "    df['district'] = df['district'].astype('O')\n",
        "    df['listing_id'] = df['listing_id'].astype('O')\n",
        "\n",
        "    # bedroom to float (and add 'x+y' items to float)\n",
        "    df['bedrooms'] = df['bedrooms'].map(normalize_bedrooms)\n",
        "    df['bedrooms'] = df['bedrooms'].astype(np.float64)\n",
        "    \n",
        "    # Drop Columns\n",
        "    df = df.drop(columns = [ 'listing_id', 'market_segment', 'type_of_area', 'eco_category', 'accessibility', 'lat', 'lng'])\n",
        "    \n",
        "    # Impute N/A Values\n",
        "    ord_col = ['type', 'model', 'region', 'tenure']\n",
        "    df = impute_ordinal(df, ord_col)\n",
        "    date_col = ['date_listed']\n",
        "    df = impute_date(df, date_col)\n",
        "    num_col = ['bedrooms', 'bathrooms', 'no_of_units', 'area_size']\n",
        "    df = impute_num(df, num_col)\n",
        "    \n",
        "    # Separate Dates    \n",
        "    d = df['date_listed'].apply(lambda x: get_separated_dates(x, t='d'))\n",
        "    m = df['date_listed'].apply(lambda x: get_separated_dates(x, t='m'))\n",
        "    y = df['date_listed'].apply(lambda x: get_separated_dates(x, t='y'))\n",
        "\n",
        "    df['day_listed'] = d\n",
        "    df['month_listed'] =  m\n",
        "    df['year_listed'] = y\n",
        "\n",
        "   # df = df.drop('date_listed', axis=1)\n",
        "    \n",
        "    # Convert tenure    \n",
        "    df['tenure'] = df['tenure'].map(convert_tenure_to_cat)\n",
        "    \n",
        "    # Normalize model and planning_area unknown values\n",
        "    model_class = model_class\n",
        "    df = normalize_model_class(df, model_class)\n",
        "    \n",
        "    # One Hot Encoding\n",
        "    df = pd.get_dummies(df, columns = ['type', 'model', 'region', 'tenure'])\n",
        "\n",
        "    # Handling built_year\n",
        "\n",
        "\n",
        "    # # Normalize Numerical Values\n",
        "    # for att in df.describe(exclude=['O']).columns:\n",
        "    #     if(df[att].min() == 0 and (df[att].max() == 1 or df[att].max() == 0)):\n",
        "    #         continue\n",
        "    #     else:\n",
        "    #         df[att] = (df[att] - min_df[att])/(max_df[att] - min_df[att])\n",
        "    \n",
        "    return df\n",
        "    \n",
        "\n",
        "df_test = preprocess_test(df1, model_class)"
      ]
    },
    {
      "cell_type": "code",
      "source": [
        "#Handling built year for test data\n",
        "names = list(df_test[\"name\"].unique())\n",
        "for name in names:\n",
        "    # print(name)\n",
        "    temp_df = df_test[df_test[\"name\"] == name]\n",
        "    try:\n",
        "        temp_df[\"built_year\"] = temp_df[\"built_year\"].fillna(temp_df[\"built_year\"].mode().iloc[0])\n",
        "    except:\n",
        "        temp_df[\"built_year\"] = temp_df[\"built_year\"].fillna(int(temp_df[\"date_listed\"].min().split(\"-\")[0]))\n",
        "            \n",
        "    try:\n",
        "        temp_df[\"no_of_units\"] = temp_df[\"no_of_units\"].fillna(temp_df[\"no_of_units\"].mode().iloc[0])\n",
        "    except:\n",
        "        temp_df[\"no_of_units\"] = temp_df[\"no_of_units\"].fillna(len(temp_df))\n",
        "    for idx, row in temp_df.iterrows():\n",
        "        df_test.loc[idx] = row"
      ],
      "metadata": {
        "id": "2_ulMSzIUIW7",
        "outputId": "d6101e7c-5d0f-42bf-d342-9b81b8be4ae6",
        "colab": {
          "base_uri": "https://localhost:8080/"
        }
      },
      "id": "2_ulMSzIUIW7",
      "execution_count": null,
      "outputs": [
        {
          "output_type": "stream",
          "name": "stderr",
          "text": [
            "/usr/local/lib/python3.7/dist-packages/ipykernel_launcher.py:7: SettingWithCopyWarning: \n",
            "A value is trying to be set on a copy of a slice from a DataFrame.\n",
            "Try using .loc[row_indexer,col_indexer] = value instead\n",
            "\n",
            "See the caveats in the documentation: https://pandas.pydata.org/pandas-docs/stable/user_guide/indexing.html#returning-a-view-versus-a-copy\n",
            "  import sys\n",
            "/usr/local/lib/python3.7/dist-packages/ipykernel_launcher.py:12: SettingWithCopyWarning: \n",
            "A value is trying to be set on a copy of a slice from a DataFrame.\n",
            "Try using .loc[row_indexer,col_indexer] = value instead\n",
            "\n",
            "See the caveats in the documentation: https://pandas.pydata.org/pandas-docs/stable/user_guide/indexing.html#returning-a-view-versus-a-copy\n",
            "  if sys.path[0] == '':\n",
            "/usr/local/lib/python3.7/dist-packages/ipykernel_launcher.py:9: SettingWithCopyWarning: \n",
            "A value is trying to be set on a copy of a slice from a DataFrame.\n",
            "Try using .loc[row_indexer,col_indexer] = value instead\n",
            "\n",
            "See the caveats in the documentation: https://pandas.pydata.org/pandas-docs/stable/user_guide/indexing.html#returning-a-view-versus-a-copy\n",
            "  if __name__ == '__main__':\n"
          ]
        }
      ]
    },
    {
      "cell_type": "code",
      "source": [
        "df.isna().sum()"
      ],
      "metadata": {
        "colab": {
          "base_uri": "https://localhost:8080/"
        },
        "id": "SIRUrne2NXwO",
        "outputId": "0d5d7487-c6c5-45b3-ab50-2b2ab429e959"
      },
      "id": "SIRUrne2NXwO",
      "execution_count": null,
      "outputs": [
        {
          "output_type": "execute_result",
          "data": {
            "text/plain": [
              "name                           0\n",
              "street                         0\n",
              "bedrooms                       0\n",
              "bathrooms                      0\n",
              "district                       0\n",
              "planning_area                  0\n",
              "subszone                       0\n",
              "built_year                     0\n",
              "no_of_units                    0\n",
              "area_size                      0\n",
              "price                          0\n",
              "day_listed                     0\n",
              "month_listed                   0\n",
              "year_listed                    0\n",
              "type_apartment                 0\n",
              "type_condominium               0\n",
              "model_apartment                0\n",
              "model_condominium              0\n",
              "model_executive condominium    0\n",
              "model_penthouse                0\n",
              "model_townhouse                0\n",
              "model_unknown                  0\n",
              "model_walk-up apt              0\n",
              "region_central region          0\n",
              "region_east region             0\n",
              "region_north region            0\n",
              "region_north-east region       0\n",
              "region_west region             0\n",
              "tenure_99                      0\n",
              "tenure_99_x_200                0\n",
              "tenure__99                     0\n",
              "tenure___900                   0\n",
              "tenure_freehold                0\n",
              "dtype: int64"
            ]
          },
          "metadata": {},
          "execution_count": 88
        }
      ]
    },
    {
      "cell_type": "code",
      "source": [
        "df_test = df_test.drop('date_listed', axis=1)"
      ],
      "metadata": {
        "id": "XCSaoXON1Pb8"
      },
      "id": "XCSaoXON1Pb8",
      "execution_count": null,
      "outputs": []
    },
    {
      "cell_type": "code",
      "source": [
        "# Target encoding\n",
        "def target_encoding(train_df, test_df, features):\n",
        "  targ_enc = ce.TargetEncoder(cols=features)\n",
        "  targ_enc.fit(train_df[features], train_df['price'])\n",
        "\n",
        "  train_df = train_df.join(targ_enc.transform(train_df[features]).add_suffix('_target'))\n",
        "  test_df = test_df.join(targ_enc.transform(test_df[features]).add_suffix('_target'))\n",
        "\n",
        "  train_df = train_df.drop(features, axis=1)\n",
        "  test_df = test_df.drop(features, axis=1)\n",
        "\n",
        "  return train_df, test_df\n",
        "\n",
        "features_list = ['name', 'street', 'subszone','planning_area']\n",
        "df, df_test = target_encoding(df, df_test, features_list)\n"
      ],
      "metadata": {
        "id": "1K4CAeF8RUq_"
      },
      "id": "1K4CAeF8RUq_",
      "execution_count": null,
      "outputs": []
    },
    {
      "cell_type": "code",
      "source": [
        "df_temp = df_flag = df_test"
      ],
      "metadata": {
        "id": "Iu9NTuVxtuUr"
      },
      "id": "Iu9NTuVxtuUr",
      "execution_count": null,
      "outputs": []
    },
    {
      "cell_type": "code",
      "source": [
        "df_temp.info()\n",
        "df.info()"
      ],
      "metadata": {
        "id": "eiW9ZkWCSPIf",
        "outputId": "2516820e-7e35-4f16-9def-a05784d95452",
        "colab": {
          "base_uri": "https://localhost:8080/"
        }
      },
      "id": "eiW9ZkWCSPIf",
      "execution_count": null,
      "outputs": [
        {
          "output_type": "stream",
          "name": "stdout",
          "text": [
            "<class 'pandas.core.frame.DataFrame'>\n",
            "RangeIndex: 7500 entries, 0 to 7499\n",
            "Data columns (total 32 columns):\n",
            " #   Column                       Non-Null Count  Dtype  \n",
            "---  ------                       --------------  -----  \n",
            " 0   bedrooms                     7500 non-null   float64\n",
            " 1   bathrooms                    7500 non-null   float64\n",
            " 2   district                     7500 non-null   object \n",
            " 3   built_year                   7500 non-null   float64\n",
            " 4   no_of_units                  7500 non-null   float64\n",
            " 5   area_size                    7500 non-null   float64\n",
            " 6   day_listed                   7500 non-null   int64  \n",
            " 7   month_listed                 7500 non-null   int64  \n",
            " 8   year_listed                  7500 non-null   int64  \n",
            " 9   type_apartment               7500 non-null   uint8  \n",
            " 10  type_condominium             7500 non-null   uint8  \n",
            " 11  model_apartment              7500 non-null   uint8  \n",
            " 12  model_condominium            7500 non-null   uint8  \n",
            " 13  model_executive condominium  7500 non-null   uint8  \n",
            " 14  model_penthouse              7500 non-null   uint8  \n",
            " 15  model_townhouse              7500 non-null   uint8  \n",
            " 16  model_unknown                7500 non-null   uint8  \n",
            " 17  model_walk-up apt            7500 non-null   uint8  \n",
            " 18  region_central region        7500 non-null   uint8  \n",
            " 19  region_east region           7500 non-null   uint8  \n",
            " 20  region_north region          7500 non-null   uint8  \n",
            " 21  region_north-east region     7500 non-null   uint8  \n",
            " 22  region_west region           7500 non-null   uint8  \n",
            " 23  tenure_99                    7500 non-null   uint8  \n",
            " 24  tenure_99_x_200              7500 non-null   uint8  \n",
            " 25  tenure__99                   7500 non-null   uint8  \n",
            " 26  tenure___900                 7500 non-null   uint8  \n",
            " 27  tenure_freehold              7500 non-null   uint8  \n",
            " 28  name_target                  7500 non-null   float64\n",
            " 29  street_target                7500 non-null   float64\n",
            " 30  subszone_target              7500 non-null   float64\n",
            " 31  planning_area_target         7500 non-null   float64\n",
            "dtypes: float64(9), int64(3), object(1), uint8(19)\n",
            "memory usage: 901.0+ KB\n",
            "<class 'pandas.core.frame.DataFrame'>\n",
            "RangeIndex: 26048 entries, 0 to 26047\n",
            "Data columns (total 33 columns):\n",
            " #   Column                       Non-Null Count  Dtype  \n",
            "---  ------                       --------------  -----  \n",
            " 0   bedrooms                     26048 non-null  float64\n",
            " 1   bathrooms                    26048 non-null  float64\n",
            " 2   district                     26048 non-null  int64  \n",
            " 3   built_year                   26048 non-null  float64\n",
            " 4   no_of_units                  26048 non-null  float64\n",
            " 5   area_size                    26048 non-null  float64\n",
            " 6   price                        26048 non-null  float64\n",
            " 7   day_listed                   26048 non-null  int64  \n",
            " 8   month_listed                 26048 non-null  int64  \n",
            " 9   year_listed                  26048 non-null  int64  \n",
            " 10  type_apartment               26048 non-null  uint8  \n",
            " 11  type_condominium             26048 non-null  uint8  \n",
            " 12  model_apartment              26048 non-null  uint8  \n",
            " 13  model_condominium            26048 non-null  uint8  \n",
            " 14  model_executive condominium  26048 non-null  uint8  \n",
            " 15  model_penthouse              26048 non-null  uint8  \n",
            " 16  model_townhouse              26048 non-null  uint8  \n",
            " 17  model_unknown                26048 non-null  uint8  \n",
            " 18  model_walk-up apt            26048 non-null  uint8  \n",
            " 19  region_central region        26048 non-null  uint8  \n",
            " 20  region_east region           26048 non-null  uint8  \n",
            " 21  region_north region          26048 non-null  uint8  \n",
            " 22  region_north-east region     26048 non-null  uint8  \n",
            " 23  region_west region           26048 non-null  uint8  \n",
            " 24  tenure_99                    26048 non-null  uint8  \n",
            " 25  tenure_99_x_200              26048 non-null  uint8  \n",
            " 26  tenure__99                   26048 non-null  uint8  \n",
            " 27  tenure___900                 26048 non-null  uint8  \n",
            " 28  tenure_freehold              26048 non-null  uint8  \n",
            " 29  name_target                  26048 non-null  float64\n",
            " 30  street_target                26048 non-null  float64\n",
            " 31  subszone_target              26048 non-null  float64\n",
            " 32  planning_area_target         26048 non-null  float64\n",
            "dtypes: float64(10), int64(4), uint8(19)\n",
            "memory usage: 3.3 MB\n"
          ]
        }
      ]
    },
    {
      "cell_type": "code",
      "source": [
        "len(df_test['built_year'].unique())"
      ],
      "metadata": {
        "colab": {
          "base_uri": "https://localhost:8080/"
        },
        "id": "zJKrZoQLYZir",
        "outputId": "0b21dcf2-b0dd-439c-ab3d-d75d4d1c7cc9"
      },
      "id": "zJKrZoQLYZir",
      "execution_count": null,
      "outputs": [
        {
          "output_type": "execute_result",
          "data": {
            "text/plain": [
              "60"
            ]
          },
          "metadata": {},
          "execution_count": 93
        }
      ]
    },
    {
      "cell_type": "code",
      "source": [
        "df.head(10)"
      ],
      "metadata": {
        "colab": {
          "base_uri": "https://localhost:8080/",
          "height": 474
        },
        "id": "goNRbLsjB4TR",
        "outputId": "3f9fc5c6-39f5-4a28-c5f2-571912c4c228"
      },
      "id": "goNRbLsjB4TR",
      "execution_count": null,
      "outputs": [
        {
          "output_type": "execute_result",
          "data": {
            "text/plain": [
              "   bedrooms  bathrooms  district  built_year  no_of_units  area_size  \\\n",
              "0       3.0        4.0         4      2011.0        151.0     2336.0   \n",
              "1       3.0        3.0        11      1999.0         24.0     1259.0   \n",
              "2       4.0        3.0        11      2012.0        235.0     1959.0   \n",
              "3       3.0        2.0        14      1930.0        237.0      883.0   \n",
              "4       3.0        3.0        15      2021.0         36.0     1066.0   \n",
              "5       2.0        1.0        27      1930.0        448.0      678.0   \n",
              "6       4.0        3.0        23      1930.0        564.0     1249.0   \n",
              "7       3.0        2.0        19      2021.0        680.0      936.0   \n",
              "8       1.0        1.0         7      2021.0        219.0      409.0   \n",
              "9       1.0        1.0         2      2014.0        202.0      592.0   \n",
              "\n",
              "       price  day_listed  month_listed  year_listed  ...  region_west region  \\\n",
              "0  5390000.0           4             5         2021  ...                   0   \n",
              "1  2310000.0           7             5         2021  ...                   0   \n",
              "2  5279500.0          30             6         2021  ...                   0   \n",
              "3  1843600.0           2             1         2022  ...                   0   \n",
              "4  2262700.0          24            12         2021  ...                   0   \n",
              "5  1131900.0           4             1         2022  ...                   0   \n",
              "6  2189000.0           5             1         2022  ...                   1   \n",
              "7  1595000.0          17            12         2021  ...                   0   \n",
              "8  1490500.0          25            12         2021  ...                   0   \n",
              "9  1265000.0          24             9         2021  ...                   0   \n",
              "\n",
              "   tenure_99  tenure_99_x_200  tenure__99  tenure___900  tenure_freehold  \\\n",
              "0          1                0           0             0                0   \n",
              "1          0                0           0             0                1   \n",
              "2          0                0           0             0                1   \n",
              "3          0                0           0             0                1   \n",
              "4          0                0           0             0                1   \n",
              "5          1                0           0             0                0   \n",
              "6          1                0           0             0                0   \n",
              "7          1                0           0             0                0   \n",
              "8          1                0           0             0                0   \n",
              "9          1                0           0             0                0   \n",
              "\n",
              "    name_target  street_target  subszone_target  planning_area_target  \n",
              "0  6.705755e+06   6.449625e+06     5.831660e+06          5.831660e+06  \n",
              "1  4.419671e+06   2.994669e+06     2.771657e+06          2.475240e+06  \n",
              "2  8.739571e+06   5.630194e+06     2.771657e+06          2.475240e+06  \n",
              "3  1.772242e+06   1.742946e+06     1.368666e+06          1.584515e+06  \n",
              "4  2.033815e+06   1.969486e+06     1.839614e+06          1.584515e+06  \n",
              "5  1.494765e+06   1.449426e+06     1.519408e+06          1.474157e+06  \n",
              "6  1.468034e+06   1.294878e+06     1.414124e+06          1.329559e+06  \n",
              "7  1.796229e+06   1.731254e+06     1.744408e+06          1.437086e+06  \n",
              "8  2.434969e+06   2.326183e+06     8.970847e+06          4.383065e+06  \n",
              "9  1.535560e+06   1.519871e+06     2.455189e+06          4.383065e+06  \n",
              "\n",
              "[10 rows x 33 columns]"
            ],
            "text/html": [
              "\n",
              "  <div id=\"df-76e54caa-674e-45df-a4ca-16b316b6b431\">\n",
              "    <div class=\"colab-df-container\">\n",
              "      <div>\n",
              "<style scoped>\n",
              "    .dataframe tbody tr th:only-of-type {\n",
              "        vertical-align: middle;\n",
              "    }\n",
              "\n",
              "    .dataframe tbody tr th {\n",
              "        vertical-align: top;\n",
              "    }\n",
              "\n",
              "    .dataframe thead th {\n",
              "        text-align: right;\n",
              "    }\n",
              "</style>\n",
              "<table border=\"1\" class=\"dataframe\">\n",
              "  <thead>\n",
              "    <tr style=\"text-align: right;\">\n",
              "      <th></th>\n",
              "      <th>bedrooms</th>\n",
              "      <th>bathrooms</th>\n",
              "      <th>district</th>\n",
              "      <th>built_year</th>\n",
              "      <th>no_of_units</th>\n",
              "      <th>area_size</th>\n",
              "      <th>price</th>\n",
              "      <th>day_listed</th>\n",
              "      <th>month_listed</th>\n",
              "      <th>year_listed</th>\n",
              "      <th>...</th>\n",
              "      <th>region_west region</th>\n",
              "      <th>tenure_99</th>\n",
              "      <th>tenure_99_x_200</th>\n",
              "      <th>tenure__99</th>\n",
              "      <th>tenure___900</th>\n",
              "      <th>tenure_freehold</th>\n",
              "      <th>name_target</th>\n",
              "      <th>street_target</th>\n",
              "      <th>subszone_target</th>\n",
              "      <th>planning_area_target</th>\n",
              "    </tr>\n",
              "  </thead>\n",
              "  <tbody>\n",
              "    <tr>\n",
              "      <th>0</th>\n",
              "      <td>3.0</td>\n",
              "      <td>4.0</td>\n",
              "      <td>4</td>\n",
              "      <td>2011.0</td>\n",
              "      <td>151.0</td>\n",
              "      <td>2336.0</td>\n",
              "      <td>5390000.0</td>\n",
              "      <td>4</td>\n",
              "      <td>5</td>\n",
              "      <td>2021</td>\n",
              "      <td>...</td>\n",
              "      <td>0</td>\n",
              "      <td>1</td>\n",
              "      <td>0</td>\n",
              "      <td>0</td>\n",
              "      <td>0</td>\n",
              "      <td>0</td>\n",
              "      <td>6.705755e+06</td>\n",
              "      <td>6.449625e+06</td>\n",
              "      <td>5.831660e+06</td>\n",
              "      <td>5.831660e+06</td>\n",
              "    </tr>\n",
              "    <tr>\n",
              "      <th>1</th>\n",
              "      <td>3.0</td>\n",
              "      <td>3.0</td>\n",
              "      <td>11</td>\n",
              "      <td>1999.0</td>\n",
              "      <td>24.0</td>\n",
              "      <td>1259.0</td>\n",
              "      <td>2310000.0</td>\n",
              "      <td>7</td>\n",
              "      <td>5</td>\n",
              "      <td>2021</td>\n",
              "      <td>...</td>\n",
              "      <td>0</td>\n",
              "      <td>0</td>\n",
              "      <td>0</td>\n",
              "      <td>0</td>\n",
              "      <td>0</td>\n",
              "      <td>1</td>\n",
              "      <td>4.419671e+06</td>\n",
              "      <td>2.994669e+06</td>\n",
              "      <td>2.771657e+06</td>\n",
              "      <td>2.475240e+06</td>\n",
              "    </tr>\n",
              "    <tr>\n",
              "      <th>2</th>\n",
              "      <td>4.0</td>\n",
              "      <td>3.0</td>\n",
              "      <td>11</td>\n",
              "      <td>2012.0</td>\n",
              "      <td>235.0</td>\n",
              "      <td>1959.0</td>\n",
              "      <td>5279500.0</td>\n",
              "      <td>30</td>\n",
              "      <td>6</td>\n",
              "      <td>2021</td>\n",
              "      <td>...</td>\n",
              "      <td>0</td>\n",
              "      <td>0</td>\n",
              "      <td>0</td>\n",
              "      <td>0</td>\n",
              "      <td>0</td>\n",
              "      <td>1</td>\n",
              "      <td>8.739571e+06</td>\n",
              "      <td>5.630194e+06</td>\n",
              "      <td>2.771657e+06</td>\n",
              "      <td>2.475240e+06</td>\n",
              "    </tr>\n",
              "    <tr>\n",
              "      <th>3</th>\n",
              "      <td>3.0</td>\n",
              "      <td>2.0</td>\n",
              "      <td>14</td>\n",
              "      <td>1930.0</td>\n",
              "      <td>237.0</td>\n",
              "      <td>883.0</td>\n",
              "      <td>1843600.0</td>\n",
              "      <td>2</td>\n",
              "      <td>1</td>\n",
              "      <td>2022</td>\n",
              "      <td>...</td>\n",
              "      <td>0</td>\n",
              "      <td>0</td>\n",
              "      <td>0</td>\n",
              "      <td>0</td>\n",
              "      <td>0</td>\n",
              "      <td>1</td>\n",
              "      <td>1.772242e+06</td>\n",
              "      <td>1.742946e+06</td>\n",
              "      <td>1.368666e+06</td>\n",
              "      <td>1.584515e+06</td>\n",
              "    </tr>\n",
              "    <tr>\n",
              "      <th>4</th>\n",
              "      <td>3.0</td>\n",
              "      <td>3.0</td>\n",
              "      <td>15</td>\n",
              "      <td>2021.0</td>\n",
              "      <td>36.0</td>\n",
              "      <td>1066.0</td>\n",
              "      <td>2262700.0</td>\n",
              "      <td>24</td>\n",
              "      <td>12</td>\n",
              "      <td>2021</td>\n",
              "      <td>...</td>\n",
              "      <td>0</td>\n",
              "      <td>0</td>\n",
              "      <td>0</td>\n",
              "      <td>0</td>\n",
              "      <td>0</td>\n",
              "      <td>1</td>\n",
              "      <td>2.033815e+06</td>\n",
              "      <td>1.969486e+06</td>\n",
              "      <td>1.839614e+06</td>\n",
              "      <td>1.584515e+06</td>\n",
              "    </tr>\n",
              "    <tr>\n",
              "      <th>5</th>\n",
              "      <td>2.0</td>\n",
              "      <td>1.0</td>\n",
              "      <td>27</td>\n",
              "      <td>1930.0</td>\n",
              "      <td>448.0</td>\n",
              "      <td>678.0</td>\n",
              "      <td>1131900.0</td>\n",
              "      <td>4</td>\n",
              "      <td>1</td>\n",
              "      <td>2022</td>\n",
              "      <td>...</td>\n",
              "      <td>0</td>\n",
              "      <td>1</td>\n",
              "      <td>0</td>\n",
              "      <td>0</td>\n",
              "      <td>0</td>\n",
              "      <td>0</td>\n",
              "      <td>1.494765e+06</td>\n",
              "      <td>1.449426e+06</td>\n",
              "      <td>1.519408e+06</td>\n",
              "      <td>1.474157e+06</td>\n",
              "    </tr>\n",
              "    <tr>\n",
              "      <th>6</th>\n",
              "      <td>4.0</td>\n",
              "      <td>3.0</td>\n",
              "      <td>23</td>\n",
              "      <td>1930.0</td>\n",
              "      <td>564.0</td>\n",
              "      <td>1249.0</td>\n",
              "      <td>2189000.0</td>\n",
              "      <td>5</td>\n",
              "      <td>1</td>\n",
              "      <td>2022</td>\n",
              "      <td>...</td>\n",
              "      <td>1</td>\n",
              "      <td>1</td>\n",
              "      <td>0</td>\n",
              "      <td>0</td>\n",
              "      <td>0</td>\n",
              "      <td>0</td>\n",
              "      <td>1.468034e+06</td>\n",
              "      <td>1.294878e+06</td>\n",
              "      <td>1.414124e+06</td>\n",
              "      <td>1.329559e+06</td>\n",
              "    </tr>\n",
              "    <tr>\n",
              "      <th>7</th>\n",
              "      <td>3.0</td>\n",
              "      <td>2.0</td>\n",
              "      <td>19</td>\n",
              "      <td>2021.0</td>\n",
              "      <td>680.0</td>\n",
              "      <td>936.0</td>\n",
              "      <td>1595000.0</td>\n",
              "      <td>17</td>\n",
              "      <td>12</td>\n",
              "      <td>2021</td>\n",
              "      <td>...</td>\n",
              "      <td>0</td>\n",
              "      <td>1</td>\n",
              "      <td>0</td>\n",
              "      <td>0</td>\n",
              "      <td>0</td>\n",
              "      <td>0</td>\n",
              "      <td>1.796229e+06</td>\n",
              "      <td>1.731254e+06</td>\n",
              "      <td>1.744408e+06</td>\n",
              "      <td>1.437086e+06</td>\n",
              "    </tr>\n",
              "    <tr>\n",
              "      <th>8</th>\n",
              "      <td>1.0</td>\n",
              "      <td>1.0</td>\n",
              "      <td>7</td>\n",
              "      <td>2021.0</td>\n",
              "      <td>219.0</td>\n",
              "      <td>409.0</td>\n",
              "      <td>1490500.0</td>\n",
              "      <td>25</td>\n",
              "      <td>12</td>\n",
              "      <td>2021</td>\n",
              "      <td>...</td>\n",
              "      <td>0</td>\n",
              "      <td>1</td>\n",
              "      <td>0</td>\n",
              "      <td>0</td>\n",
              "      <td>0</td>\n",
              "      <td>0</td>\n",
              "      <td>2.434969e+06</td>\n",
              "      <td>2.326183e+06</td>\n",
              "      <td>8.970847e+06</td>\n",
              "      <td>4.383065e+06</td>\n",
              "    </tr>\n",
              "    <tr>\n",
              "      <th>9</th>\n",
              "      <td>1.0</td>\n",
              "      <td>1.0</td>\n",
              "      <td>2</td>\n",
              "      <td>2014.0</td>\n",
              "      <td>202.0</td>\n",
              "      <td>592.0</td>\n",
              "      <td>1265000.0</td>\n",
              "      <td>24</td>\n",
              "      <td>9</td>\n",
              "      <td>2021</td>\n",
              "      <td>...</td>\n",
              "      <td>0</td>\n",
              "      <td>1</td>\n",
              "      <td>0</td>\n",
              "      <td>0</td>\n",
              "      <td>0</td>\n",
              "      <td>0</td>\n",
              "      <td>1.535560e+06</td>\n",
              "      <td>1.519871e+06</td>\n",
              "      <td>2.455189e+06</td>\n",
              "      <td>4.383065e+06</td>\n",
              "    </tr>\n",
              "  </tbody>\n",
              "</table>\n",
              "<p>10 rows × 33 columns</p>\n",
              "</div>\n",
              "      <button class=\"colab-df-convert\" onclick=\"convertToInteractive('df-76e54caa-674e-45df-a4ca-16b316b6b431')\"\n",
              "              title=\"Convert this dataframe to an interactive table.\"\n",
              "              style=\"display:none;\">\n",
              "        \n",
              "  <svg xmlns=\"http://www.w3.org/2000/svg\" height=\"24px\"viewBox=\"0 0 24 24\"\n",
              "       width=\"24px\">\n",
              "    <path d=\"M0 0h24v24H0V0z\" fill=\"none\"/>\n",
              "    <path d=\"M18.56 5.44l.94 2.06.94-2.06 2.06-.94-2.06-.94-.94-2.06-.94 2.06-2.06.94zm-11 1L8.5 8.5l.94-2.06 2.06-.94-2.06-.94L8.5 2.5l-.94 2.06-2.06.94zm10 10l.94 2.06.94-2.06 2.06-.94-2.06-.94-.94-2.06-.94 2.06-2.06.94z\"/><path d=\"M17.41 7.96l-1.37-1.37c-.4-.4-.92-.59-1.43-.59-.52 0-1.04.2-1.43.59L10.3 9.45l-7.72 7.72c-.78.78-.78 2.05 0 2.83L4 21.41c.39.39.9.59 1.41.59.51 0 1.02-.2 1.41-.59l7.78-7.78 2.81-2.81c.8-.78.8-2.07 0-2.86zM5.41 20L4 18.59l7.72-7.72 1.47 1.35L5.41 20z\"/>\n",
              "  </svg>\n",
              "      </button>\n",
              "      \n",
              "  <style>\n",
              "    .colab-df-container {\n",
              "      display:flex;\n",
              "      flex-wrap:wrap;\n",
              "      gap: 12px;\n",
              "    }\n",
              "\n",
              "    .colab-df-convert {\n",
              "      background-color: #E8F0FE;\n",
              "      border: none;\n",
              "      border-radius: 50%;\n",
              "      cursor: pointer;\n",
              "      display: none;\n",
              "      fill: #1967D2;\n",
              "      height: 32px;\n",
              "      padding: 0 0 0 0;\n",
              "      width: 32px;\n",
              "    }\n",
              "\n",
              "    .colab-df-convert:hover {\n",
              "      background-color: #E2EBFA;\n",
              "      box-shadow: 0px 1px 2px rgba(60, 64, 67, 0.3), 0px 1px 3px 1px rgba(60, 64, 67, 0.15);\n",
              "      fill: #174EA6;\n",
              "    }\n",
              "\n",
              "    [theme=dark] .colab-df-convert {\n",
              "      background-color: #3B4455;\n",
              "      fill: #D2E3FC;\n",
              "    }\n",
              "\n",
              "    [theme=dark] .colab-df-convert:hover {\n",
              "      background-color: #434B5C;\n",
              "      box-shadow: 0px 1px 3px 1px rgba(0, 0, 0, 0.15);\n",
              "      filter: drop-shadow(0px 1px 2px rgba(0, 0, 0, 0.3));\n",
              "      fill: #FFFFFF;\n",
              "    }\n",
              "  </style>\n",
              "\n",
              "      <script>\n",
              "        const buttonEl =\n",
              "          document.querySelector('#df-76e54caa-674e-45df-a4ca-16b316b6b431 button.colab-df-convert');\n",
              "        buttonEl.style.display =\n",
              "          google.colab.kernel.accessAllowed ? 'block' : 'none';\n",
              "\n",
              "        async function convertToInteractive(key) {\n",
              "          const element = document.querySelector('#df-76e54caa-674e-45df-a4ca-16b316b6b431');\n",
              "          const dataTable =\n",
              "            await google.colab.kernel.invokeFunction('convertToInteractive',\n",
              "                                                     [key], {});\n",
              "          if (!dataTable) return;\n",
              "\n",
              "          const docLinkHtml = 'Like what you see? Visit the ' +\n",
              "            '<a target=\"_blank\" href=https://colab.research.google.com/notebooks/data_table.ipynb>data table notebook</a>'\n",
              "            + ' to learn more about interactive tables.';\n",
              "          element.innerHTML = '';\n",
              "          dataTable['output_type'] = 'display_data';\n",
              "          await google.colab.output.renderOutput(dataTable, element);\n",
              "          const docLink = document.createElement('div');\n",
              "          docLink.innerHTML = docLinkHtml;\n",
              "          element.appendChild(docLink);\n",
              "        }\n",
              "      </script>\n",
              "    </div>\n",
              "  </div>\n",
              "  "
            ]
          },
          "metadata": {},
          "execution_count": 94
        }
      ]
    },
    {
      "cell_type": "code",
      "execution_count": null,
      "id": "98d98287-65d8-4d3c-8efd-43e6643202f1",
      "metadata": {
        "id": "98d98287-65d8-4d3c-8efd-43e6643202f1"
      },
      "outputs": [],
      "source": [
        "df.to_csv(path_or_buf='/content/sample_data/train_data.csv', index=False)\n",
        "df_temp.to_csv(path_or_buf='/content/sample_data/test_data.csv', index=False)"
      ]
    }
  ],
  "metadata": {
    "kernelspec": {
      "display_name": "Python 3 (ipykernel)",
      "language": "python",
      "name": "python3"
    },
    "language_info": {
      "codemirror_mode": {
        "name": "ipython",
        "version": 3
      },
      "file_extension": ".py",
      "mimetype": "text/x-python",
      "name": "python",
      "nbconvert_exporter": "python",
      "pygments_lexer": "ipython3",
      "version": "3.8.10"
    },
    "colab": {
      "name": "Housing_DataPreprocessing.ipynb",
      "provenance": []
    }
  },
  "nbformat": 4,
  "nbformat_minor": 5
}